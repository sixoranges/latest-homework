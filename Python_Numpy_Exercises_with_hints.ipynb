{
 "cells": [
  {
   "cell_type": "markdown",
   "id": "bf79c78b",
   "metadata": {},
   "source": [
    "# Python NumPy Exercises\n",
    "\n",
    "This is a collection of exercises that have been collected in the numpy mailing list, on stack overflow\n",
    "and in the numpy documentation. The goal of this collection is to offer a quick reference for both old\n",
    "and new users but also to provide a set of exercises for those who teach."
   ]
  },
  {
   "cell_type": "markdown",
   "id": "017db353",
   "metadata": {},
   "source": [
    "#### 1. Import the numpy package under the name `np` and print the numpy version and the configuration (★☆☆)\n",
    "\n",
    "`Hint: import … as` and `np.__version__, np.show_config)`"
   ]
  },
  {
   "cell_type": "code",
   "execution_count": 2,
   "id": "e28779fe",
   "metadata": {},
   "outputs": [
    {
     "name": "stdout",
     "output_type": "stream",
     "text": [
      "1.20.3\n",
      "<function show at 0x000001CD9FCA0C10>\n"
     ]
    }
   ],
   "source": [
    "import numpy as np\n",
    "print(np.__version__)\n",
    "print(np.show_config)"
   ]
  },
  {
   "cell_type": "markdown",
   "id": "46950f4f",
   "metadata": {},
   "source": [
    "#### 2. Convert a list of numeric value into a one-dimensional NumPy array (★☆☆)\n",
    "`💡 hint: numpy.array`"
   ]
  },
  {
   "cell_type": "code",
   "execution_count": 9,
   "id": "9b0e875f",
   "metadata": {},
   "outputs": [
    {
     "data": {
      "text/plain": [
       "array([1., 2., 3.])"
      ]
     },
     "execution_count": 9,
     "metadata": {},
     "output_type": "execute_result"
    }
   ],
   "source": [
    "a=np.array([1,2,3.])\n",
    "a"
   ]
  },
  {
   "cell_type": "markdown",
   "id": "e3c20b3d",
   "metadata": {},
   "source": [
    "#### 3. Create a null vector of size 9 (★☆☆)\n",
    "`💡 hint: np.zeros`"
   ]
  },
  {
   "cell_type": "code",
   "execution_count": 10,
   "id": "96d0b63e",
   "metadata": {},
   "outputs": [
    {
     "data": {
      "text/plain": [
       "array([0., 0., 0., 0., 0., 0., 0., 0., 0.])"
      ]
     },
     "execution_count": 10,
     "metadata": {},
     "output_type": "execute_result"
    }
   ],
   "source": [
    "np.zeros(9)"
   ]
  },
  {
   "cell_type": "markdown",
   "id": "b15a879f",
   "metadata": {},
   "source": [
    "#### 4. How to find the memory size of any array (★☆☆)\n",
    "`💡 hint: size, itemsize`"
   ]
  },
  {
   "cell_type": "code",
   "execution_count": 11,
   "id": "32f9025c",
   "metadata": {},
   "outputs": [
    {
     "name": "stdout",
     "output_type": "stream",
     "text": [
      "3\n",
      "8\n"
     ]
    }
   ],
   "source": [
    "print(a.size)\n",
    "print(a.itemsize)"
   ]
  },
  {
   "cell_type": "markdown",
   "id": "0a708990",
   "metadata": {},
   "source": [
    "#### 5. How to get the documentation of the numpy add function from the command line? (★☆☆)\n",
    "`💡hint: np.info`"
   ]
  },
  {
   "cell_type": "code",
   "execution_count": 12,
   "id": "d254eea5",
   "metadata": {},
   "outputs": [
    {
     "data": {
      "text/plain": [
       "<function numpy.info(object=None, maxwidth=76, output=<ipykernel.iostream.OutStream object at 0x000001CD9FB44160>, toplevel='numpy')>"
      ]
     },
     "execution_count": 12,
     "metadata": {},
     "output_type": "execute_result"
    }
   ],
   "source": [
    "np.info"
   ]
  },
  {
   "cell_type": "markdown",
   "id": "0b16cd77",
   "metadata": {},
   "source": [
    "#### 6. Create a null vector of size 12 but the sixth value which is 1 (★☆☆)\n",
    "`💡hint: array[12]`"
   ]
  },
  {
   "cell_type": "code",
   "execution_count": 20,
   "id": "05223560",
   "metadata": {},
   "outputs": [
    {
     "data": {
      "text/plain": [
       "array([37, 12, 72,  9, 75,  1, 79, 64, 16,  1, 76, 71])"
      ]
     },
     "execution_count": 20,
     "metadata": {},
     "output_type": "execute_result"
    }
   ],
   "source": [
    "np.random.seed(1)\n",
    "b=np.random.randint(100,size=12)\n",
    "b[5]=1\n",
    "b"
   ]
  },
  {
   "cell_type": "markdown",
   "id": "782d4c77",
   "metadata": {},
   "source": [
    "#### 7. Create a vector with values ranging from 20 to 59 (★☆☆)\n",
    "`💡hint: arange`"
   ]
  },
  {
   "cell_type": "code",
   "execution_count": 475,
   "id": "7250d114",
   "metadata": {},
   "outputs": [
    {
     "data": {
      "text/plain": [
       "array([20, 21, 22, 23, 24, 25, 26, 27, 28, 29, 30, 31, 32, 33, 34, 35, 36,\n",
       "       37, 38, 39, 40, 41, 42, 43, 44, 45, 46, 47, 48, 49, 50, 51, 52, 53,\n",
       "       54, 55, 56, 57, 58, 59])"
      ]
     },
     "execution_count": 475,
     "metadata": {},
     "output_type": "execute_result"
    }
   ],
   "source": [
    "c=np.arange(20,60)\n",
    "c"
   ]
  },
  {
   "cell_type": "markdown",
   "id": "48d48f01",
   "metadata": {},
   "source": [
    "#### 8. Reverse a vector (first element becomes last) (★☆☆)\n",
    "`💡hint: array[::-1]`"
   ]
  },
  {
   "cell_type": "code",
   "execution_count": 24,
   "id": "fb702ae0",
   "metadata": {},
   "outputs": [
    {
     "data": {
      "text/plain": [
       "array([58, 57, 56, 55, 54, 53, 52, 51, 50, 49, 48, 47, 46, 45, 44, 43, 42,\n",
       "       41, 40, 39, 38, 37, 36, 35, 34, 33, 32, 31, 30, 29, 28, 27, 26, 25,\n",
       "       24, 23, 22, 21, 20])"
      ]
     },
     "execution_count": 24,
     "metadata": {},
     "output_type": "execute_result"
    }
   ],
   "source": [
    "c[::-1]"
   ]
  },
  {
   "cell_type": "markdown",
   "id": "4fa39382",
   "metadata": {},
   "source": [
    "#### 9. Create a 3x3 matrix with values ranging from 12 to 20 (★☆☆)\n",
    "`💡hint: reshape`"
   ]
  },
  {
   "cell_type": "code",
   "execution_count": 403,
   "id": "97e6be92",
   "metadata": {},
   "outputs": [
    {
     "data": {
      "text/plain": [
       "matrix([[12, 13, 14],\n",
       "        [15, 16, 17],\n",
       "        [18, 19, 20]])"
      ]
     },
     "execution_count": 403,
     "metadata": {},
     "output_type": "execute_result"
    }
   ],
   "source": [
    "d=np.arange(12,21)\n",
    "acc=d.reshape(3,3)\n",
    "np.matrix(acc)\n"
   ]
  },
  {
   "cell_type": "markdown",
   "id": "da64551a",
   "metadata": {},
   "source": [
    "#### 10. Find indices of non-zero elements from [3,7,0,0,9,0] (★☆☆)\n",
    "`💡hint: np.nonzero`"
   ]
  },
  {
   "cell_type": "code",
   "execution_count": 28,
   "id": "322b2b68",
   "metadata": {},
   "outputs": [
    {
     "name": "stdout",
     "output_type": "stream",
     "text": [
      "(array([0, 1, 4], dtype=int64),)\n"
     ]
    }
   ],
   "source": [
    "e=np.array([3,7,0,0,9,0])\n",
    "print(np.nonzero(e))"
   ]
  },
  {
   "cell_type": "markdown",
   "id": "f89d9c9e",
   "metadata": {},
   "source": [
    "#### 11. Create a 4x4 identity matrix (★☆☆)\n",
    "`💡hint: np.eye`"
   ]
  },
  {
   "cell_type": "code",
   "execution_count": 407,
   "id": "5717e1c1",
   "metadata": {},
   "outputs": [
    {
     "data": {
      "text/plain": [
       "matrix([[1., 0., 0., 0.],\n",
       "        [0., 1., 0., 0.],\n",
       "        [0., 0., 1., 0.],\n",
       "        [0., 0., 0., 1.]])"
      ]
     },
     "execution_count": 407,
     "metadata": {},
     "output_type": "execute_result"
    }
   ],
   "source": [
    "f=np.eye(4)\n",
    "np.matrix(f)"
   ]
  },
  {
   "cell_type": "markdown",
   "id": "7e44c6fa",
   "metadata": {},
   "source": [
    "#### 12. Create a 2x2x2 array with random values (★☆☆)\n",
    "`💡hint: np.random.random`"
   ]
  },
  {
   "cell_type": "code",
   "execution_count": 33,
   "id": "c8fd52e1",
   "metadata": {},
   "outputs": [
    {
     "data": {
      "text/plain": [
       "array([[[0.5488135 , 0.71518937],\n",
       "        [0.60276338, 0.54488318]],\n",
       "\n",
       "       [[0.4236548 , 0.64589411],\n",
       "        [0.43758721, 0.891773  ]]])"
      ]
     },
     "execution_count": 33,
     "metadata": {},
     "output_type": "execute_result"
    }
   ],
   "source": [
    "np.random.seed(0)\n",
    "g=np.random.random(size=(2,2,2))\n",
    "g"
   ]
  },
  {
   "cell_type": "markdown",
   "id": "13c5928c",
   "metadata": {},
   "source": [
    "#### 13. Create a 9x9 array with random values and find the minimum and maximum values (★☆☆)\n",
    "`💡hint: min, max`"
   ]
  },
  {
   "cell_type": "code",
   "execution_count": 405,
   "id": "0ede4d26",
   "metadata": {},
   "outputs": [
    {
     "name": "stdout",
     "output_type": "stream",
     "text": [
      "[91 88 84 98 99 97 78 95 92]\n",
      "[ 1  9  7  2 20  5 20 42 21]\n"
     ]
    }
   ],
   "source": [
    "h=np.random.randint(100,size=(9,9))\n",
    "print(np.max(h,axis=1))\n",
    "print(np.min(h,axis=0))"
   ]
  },
  {
   "cell_type": "markdown",
   "id": "3fa2e461",
   "metadata": {},
   "source": [
    "#### 14. Create a random vector of size 20 and find the mean value (★☆☆)\n",
    "`💡hint: mean`"
   ]
  },
  {
   "cell_type": "code",
   "execution_count": 41,
   "id": "c0048e59",
   "metadata": {},
   "outputs": [
    {
     "name": "stdout",
     "output_type": "stream",
     "text": [
      "4.4\n"
     ]
    }
   ],
   "source": [
    "np.random.seed(4)\n",
    "i=np.random.randint(10,size=20)\n",
    "print(np.mean(i))"
   ]
  },
  {
   "cell_type": "markdown",
   "id": "73f7a549",
   "metadata": {},
   "source": [
    "#### 15. Create a 2d array with 1 on the border and 0 inside (★☆☆)\n",
    "`💡hint: array[1:-1, 1:-1]`"
   ]
  },
  {
   "cell_type": "code",
   "execution_count": 477,
   "id": "351ff928",
   "metadata": {},
   "outputs": [
    {
     "name": "stdout",
     "output_type": "stream",
     "text": [
      "[[1. 1. 1. 1.]\n",
      " [1. 0. 0. 1.]\n",
      " [1. 0. 0. 1.]\n",
      " [1. 1. 1. 1.]]\n"
     ]
    }
   ],
   "source": [
    "j=np.ones((4,4))\n",
    "j[1:3,1:3]=0\n",
    "print(j)"
   ]
  },
  {
   "cell_type": "markdown",
   "id": "6d0c506f",
   "metadata": {},
   "source": [
    "#### 16. How to add a border (filled with 0's) around an existing array? (★☆☆)\n",
    "`💡hint: np.pad`"
   ]
  },
  {
   "cell_type": "code",
   "execution_count": 479,
   "id": "c1cc1143",
   "metadata": {},
   "outputs": [
    {
     "name": "stdout",
     "output_type": "stream",
     "text": [
      "[[0. 0. 0. 0. 0. 0.]\n",
      " [0. 1. 1. 1. 1. 0.]\n",
      " [0. 1. 0. 0. 1. 0.]\n",
      " [0. 1. 0. 0. 1. 0.]\n",
      " [0. 1. 1. 1. 1. 0.]\n",
      " [0. 0. 0. 0. 0. 0.]]\n"
     ]
    }
   ],
   "source": [
    "print(np.pad(j,((1,1),(1,1))))"
   ]
  },
  {
   "cell_type": "markdown",
   "id": "d6ad1a9f",
   "metadata": {},
   "source": [
    "#### 17. What is the result of the following expression? (★☆☆)\n",
    "```python\n",
    "0 * np.nan\n",
    "np.nan == np.nan\n",
    "np.inf > np.nan\n",
    "np.nan - np.nan\n",
    "np.nan in set([np.nan])\n",
    "0.7 == 7 * 0.1\n",
    "```\n",
    "`💡hint: NaN = not a number, inf = infinity`"
   ]
  },
  {
   "cell_type": "code",
   "execution_count": 50,
   "id": "7ba3c441",
   "metadata": {},
   "outputs": [
    {
     "name": "stdout",
     "output_type": "stream",
     "text": [
      "nan\n",
      "False\n",
      "False\n",
      "nan\n",
      "True\n",
      "False\n"
     ]
    }
   ],
   "source": [
    "print(0 * np.nan)\n",
    "print(np.nan == np.nan)\n",
    "print(np.inf > np.nan)\n",
    "print(np.nan - np.nan)\n",
    "print(np.nan in set([np.nan]))\n",
    "print(0.7 == 7 * 0.1)"
   ]
  },
  {
   "cell_type": "markdown",
   "id": "e3a7ba7f",
   "metadata": {},
   "source": [
    "#### 18. Create a 6x6 matrix with values 1,2,3,4 just below the diagonal (★☆☆)\n",
    "`💡hint: np.diag`"
   ]
  },
  {
   "cell_type": "code",
   "execution_count": 408,
   "id": "b874734e",
   "metadata": {},
   "outputs": [
    {
     "data": {
      "text/plain": [
       "matrix([[ 3, 14, 15, 29,  6, 22],\n",
       "        [16,  9,  8,  4,  7, 27],\n",
       "        [ 1, 16,  7, 12, 15, 17],\n",
       "        [21,  2, 16, 27, 12, 13],\n",
       "        [11,  1,  3, 20, 22, 29],\n",
       "        [18, 25,  9,  4,  9,  9]])"
      ]
     },
     "execution_count": 408,
     "metadata": {},
     "output_type": "execute_result"
    }
   ],
   "source": [
    "np.random.seed(5)\n",
    "n=np.random.randint(30,size=(6,6))\n",
    "row=np.array([2,3,4,5])\n",
    "col=np.array([0,1,2,3])\n",
    "n[row,col] = np.array([1, 2, 3,4])\n",
    "np.matrix(n)"
   ]
  },
  {
   "cell_type": "markdown",
   "id": "6d17ab5d",
   "metadata": {},
   "source": [
    "#### 19. Create a 6x6 matrix and fill it with a checkerboard pattern (★☆☆)\n",
    "`💡hint: array[::2]`"
   ]
  },
  {
   "cell_type": "code",
   "execution_count": 132,
   "id": "4c4e2c5e",
   "metadata": {},
   "outputs": [
    {
     "data": {
      "text/plain": [
       "array([[1., 0., 1., 0., 1., 0.],\n",
       "       [0., 1., 0., 1., 0., 1.],\n",
       "       [1., 0., 1., 0., 1., 0.],\n",
       "       [0., 1., 0., 1., 0., 1.],\n",
       "       [1., 0., 1., 0., 1., 0.],\n",
       "       [0., 1., 0., 1., 0., 1.]])"
      ]
     },
     "execution_count": 132,
     "metadata": {},
     "output_type": "execute_result"
    }
   ],
   "source": [
    "np.random.seed(6)\n",
    "aa=np.zeros((6,6))\n",
    "aa[::2,::2]=1\n",
    "aa[1::2,1::2]=1\n",
    "aa"
   ]
  },
  {
   "cell_type": "markdown",
   "id": "8837119b",
   "metadata": {},
   "source": [
    "#### 20. Consider a (8,9,10) shape array, what is the index (x,y,z) of the 100th element? (★☆☆)\n",
    "`💡hint: np.unravel_index`"
   ]
  },
  {
   "cell_type": "code",
   "execution_count": 202,
   "id": "2b05c544",
   "metadata": {},
   "outputs": [
    {
     "data": {
      "text/plain": [
       "(0, 7, 5)"
      ]
     },
     "execution_count": 202,
     "metadata": {},
     "output_type": "execute_result"
    }
   ],
   "source": [
    "np.random.seed(8)\n",
    "qq=np.random.randint(100,size=(8,9,10))\n",
    "#100thelement is 100\n",
    "cc=np.unravel_index(75,qq.shape)\n",
    "cc"
   ]
  },
  {
   "cell_type": "markdown",
   "id": "ec788c9f",
   "metadata": {},
   "source": [
    "#### 21. Create a checkerboard 8x8 matrix using the tile function (★☆☆)\n",
    "`💡hint: np.tile`"
   ]
  },
  {
   "cell_type": "code",
   "execution_count": 213,
   "id": "c3980b2c",
   "metadata": {},
   "outputs": [
    {
     "data": {
      "text/plain": [
       "array([[1, 1, 1, 1, 1, 1, 1, 1],\n",
       "       [1, 1, 1, 1, 1, 1, 1, 1],\n",
       "       [1, 1, 1, 1, 1, 1, 1, 1],\n",
       "       [1, 1, 1, 1, 1, 1, 1, 1],\n",
       "       [1, 1, 1, 1, 1, 1, 1, 1],\n",
       "       [1, 1, 1, 1, 1, 1, 1, 1],\n",
       "       [1, 1, 1, 1, 1, 1, 1, 1],\n",
       "       [1, 1, 1, 1, 1, 1, 1, 1]])"
      ]
     },
     "execution_count": 213,
     "metadata": {},
     "output_type": "execute_result"
    }
   ],
   "source": [
    "v21=np.tile(1,(8,8))\n",
    "v21"
   ]
  },
  {
   "cell_type": "markdown",
   "id": "391791e0",
   "metadata": {},
   "source": [
    "#### 22. Normalize a 6x6 random matrix (★☆☆)\n",
    "`💡hint: (x -mean)/std`"
   ]
  },
  {
   "cell_type": "code",
   "execution_count": 226,
   "id": "ada71c06",
   "metadata": {},
   "outputs": [
    {
     "data": {
      "text/plain": [
       "array([[-0.71815532,  0.26814216,  1.35714198, -0.30404267,  0.91168461,\n",
       "        -1.33927991],\n",
       "       [-0.71815532,  1.24494576,  0.89081126, -1.03374509,  0.82621418,\n",
       "        -1.15153039],\n",
       "       [-1.38106793,  0.21068313, -0.57992411,  2.03100505,  0.14245072,\n",
       "        -0.25033269],\n",
       "       [ 1.33687376, -2.03021924, -1.72781512,  0.3526895 , -1.90883966,\n",
       "         1.28921338],\n",
       "       [ 1.03856308, -0.13407108, -0.11359338, -0.66889388,  0.65527331,\n",
       "         0.50066539],\n",
       "       [ 0.44194174,  0.44051927,  0.17337937, -0.37701291, -0.62678317,\n",
       "         0.95126424]])"
      ]
     },
     "execution_count": 226,
     "metadata": {},
     "output_type": "execute_result"
    }
   ],
   "source": [
    "a22=np.random.randint(100,size=(6,6))\n",
    "normalization=(a22- a22.mean(axis=0))/(a22.std(axis=0))\n",
    "normalization"
   ]
  },
  {
   "cell_type": "markdown",
   "id": "1e74d39e",
   "metadata": {},
   "source": [
    "#### 23. find the number of elements of an array, length of one array element in bytes and total bytes consumed by the elements. (★☆☆)"
   ]
  },
  {
   "cell_type": "code",
   "execution_count": 234,
   "id": "eb0e066c",
   "metadata": {},
   "outputs": [
    {
     "name": "stdout",
     "output_type": "stream",
     "text": [
      "5\n",
      "4\n",
      "20bytes\n"
     ]
    }
   ],
   "source": [
    "a23=np.array([1,2,3,4,5])\n",
    "print(len(a23))\n",
    "print(a23.itemsize)\n",
    "print('{}bytes'.format(len(a23)*a23.itemsize))"
   ]
  },
  {
   "cell_type": "markdown",
   "id": "78250c14",
   "metadata": {},
   "source": [
    "#### 24. Multiply a 6x3 matrix by a 3x4 matrix (real matrix product) (★☆☆)\n",
    "`💡hint: np.dot` or `np.ones`"
   ]
  },
  {
   "cell_type": "code",
   "execution_count": 411,
   "id": "2e482afe",
   "metadata": {},
   "outputs": [
    {
     "data": {
      "text/plain": [
       "matrix([[ 99,  35,  93,  45],\n",
       "        [957, 756, 632, 669],\n",
       "        [458, 791, 109, 354],\n",
       "        [512, 553, 235, 462],\n",
       "        [602, 455, 477, 240],\n",
       "        [721, 742, 318, 723]])"
      ]
     },
     "execution_count": 411,
     "metadata": {},
     "output_type": "execute_result"
    }
   ],
   "source": [
    "np.random.seed(24)\n",
    "a24=np.random.randint(30,size=(6,3))\n",
    "b24=np.random.randint(30,size=(3,4))\n",
    "aa24=np.matrix(a24)\n",
    "bb24=np.matrix(b24)\n",
    "c24=np.dot(aa24,bb24)\n",
    "c24\n"
   ]
  },
  {
   "cell_type": "markdown",
   "id": "51898680",
   "metadata": {},
   "source": [
    "#### 25. Given a 1D array, negate all elements which are between 3 and 8, in place. (★☆☆)\n",
    "`💡hint: >, <`"
   ]
  },
  {
   "cell_type": "code",
   "execution_count": 253,
   "id": "ee92ccaf",
   "metadata": {},
   "outputs": [
    {
     "name": "stdout",
     "output_type": "stream",
     "text": [
      "[15 12 18  8  4  5  1  7  3]\n",
      "[15 12 18  8  4  5  1  7  3]\n",
      "[15 12 18  8  4  5  1  7  3]\n",
      "[15 12 18  8  4  5  1  7  3]\n",
      "[15 12 18  8  5  1  7  3]\n",
      "[15 12 18  8  5  1  7  3]\n",
      "[15 12 18  8  5  1  3]\n"
     ]
    },
    {
     "ename": "IndexError",
     "evalue": "index 7 is out of bounds for axis 0 with size 7",
     "output_type": "error",
     "traceback": [
      "\u001b[1;31m---------------------------------------------------------------------------\u001b[0m",
      "\u001b[1;31mIndexError\u001b[0m                                Traceback (most recent call last)",
      "\u001b[1;32mC:\\Users\\ADMINI~1\\AppData\\Local\\Temp/ipykernel_14564/863585210.py\u001b[0m in \u001b[0;36m<module>\u001b[1;34m\u001b[0m\n\u001b[0;32m      2\u001b[0m \u001b[0ma25\u001b[0m\u001b[1;33m=\u001b[0m\u001b[0mnp\u001b[0m\u001b[1;33m.\u001b[0m\u001b[0mrandom\u001b[0m\u001b[1;33m.\u001b[0m\u001b[0mrandint\u001b[0m\u001b[1;33m(\u001b[0m\u001b[1;36m19\u001b[0m\u001b[1;33m,\u001b[0m\u001b[0msize\u001b[0m\u001b[1;33m=\u001b[0m\u001b[1;36m10\u001b[0m\u001b[1;33m)\u001b[0m\u001b[1;33m\u001b[0m\u001b[1;33m\u001b[0m\u001b[0m\n\u001b[0;32m      3\u001b[0m \u001b[1;32mfor\u001b[0m \u001b[0mi\u001b[0m \u001b[1;32min\u001b[0m \u001b[0mrange\u001b[0m\u001b[1;33m(\u001b[0m\u001b[0mlen\u001b[0m\u001b[1;33m(\u001b[0m\u001b[0ma25\u001b[0m\u001b[1;33m)\u001b[0m\u001b[1;33m)\u001b[0m\u001b[1;33m:\u001b[0m\u001b[1;33m\u001b[0m\u001b[1;33m\u001b[0m\u001b[0m\n\u001b[1;32m----> 4\u001b[1;33m     \u001b[1;32mif\u001b[0m \u001b[0ma25\u001b[0m\u001b[1;33m[\u001b[0m\u001b[0mi\u001b[0m\u001b[1;33m]\u001b[0m \u001b[1;33m>\u001b[0m\u001b[1;36m3\u001b[0m \u001b[1;32mand\u001b[0m \u001b[0ma25\u001b[0m\u001b[1;33m[\u001b[0m\u001b[0mi\u001b[0m\u001b[1;33m]\u001b[0m \u001b[1;33m<\u001b[0m\u001b[1;36m8\u001b[0m\u001b[1;33m:\u001b[0m\u001b[1;33m\u001b[0m\u001b[1;33m\u001b[0m\u001b[0m\n\u001b[0m\u001b[0;32m      5\u001b[0m         \u001b[0ma25\u001b[0m\u001b[1;33m=\u001b[0m\u001b[0mnp\u001b[0m\u001b[1;33m.\u001b[0m\u001b[0mdelete\u001b[0m\u001b[1;33m(\u001b[0m\u001b[0ma25\u001b[0m\u001b[1;33m,\u001b[0m\u001b[0mi\u001b[0m\u001b[1;33m,\u001b[0m\u001b[0maxis\u001b[0m\u001b[1;33m=\u001b[0m\u001b[1;36m0\u001b[0m\u001b[1;33m)\u001b[0m\u001b[1;33m\u001b[0m\u001b[1;33m\u001b[0m\u001b[0m\n\u001b[0;32m      6\u001b[0m     \u001b[0mprint\u001b[0m\u001b[1;33m(\u001b[0m\u001b[0ma25\u001b[0m\u001b[1;33m)\u001b[0m\u001b[1;33m\u001b[0m\u001b[1;33m\u001b[0m\u001b[0m\n",
      "\u001b[1;31mIndexError\u001b[0m: index 7 is out of bounds for axis 0 with size 7"
     ]
    }
   ],
   "source": [
    "np.random.seed(25)\n",
    "a25=np.random.randint(19,size=10)\n",
    "for i in range(len(a25)):\n",
    "    if a25[i] >3 and a25[i] <8:\n",
    "        a25=np.delete(a25,i,axis=0)\n",
    "    print(a25)\n",
    "\n",
    "    "
   ]
  },
  {
   "cell_type": "markdown",
   "id": "89e78048",
   "metadata": {},
   "source": [
    "#### 26. What is the output of the following script? (★☆☆)\n",
    "```python\n",
    "\n",
    "print(sum(range(5),-1))\n",
    "from numpy import *\n",
    "print(sum(range(5),-1))\n",
    "```"
   ]
  },
  {
   "cell_type": "code",
   "execution_count": 236,
   "id": "8026c969",
   "metadata": {},
   "outputs": [
    {
     "name": "stdout",
     "output_type": "stream",
     "text": [
      "9\n",
      "10\n"
     ]
    }
   ],
   "source": [
    "print(sum(range(5),-1))\n",
    "from numpy import *\n",
    "print(sum(range(5),-1))#sum of 1 to 4"
   ]
  },
  {
   "cell_type": "markdown",
   "id": "ebd10810",
   "metadata": {},
   "source": [
    "#### 27. Write a Python program compare two arrays using numpy (★☆☆)\n",
    "```python\n",
    "Array a: [1 2]\n",
    "Array b: [4 5]\n",
    "a > b \n",
    "[False False]\n",
    "a >= b \n",
    "[False False] \n",
    "a < b \n",
    "[ True True] \n",
    "a <= b \n",
    "[ True True]\n",
    "```"
   ]
  },
  {
   "cell_type": "code",
   "execution_count": 257,
   "id": "90fed5c6",
   "metadata": {},
   "outputs": [
    {
     "data": {
      "text/plain": [
       "(array([False, False]),\n",
       " array([False, False]),\n",
       " array([ True,  True]),\n",
       " array([ True,  True]))"
      ]
     },
     "execution_count": 257,
     "metadata": {},
     "output_type": "execute_result"
    }
   ],
   "source": [
    "def compare(a,b):\n",
    "     return a>b,a>=b,a<b,a<=b\n",
    "a27=np.array([1,2])\n",
    "b27=np.array([4,5])\n",
    "compare(a27,b27)"
   ]
  },
  {
   "cell_type": "markdown",
   "id": "c0e940f8",
   "metadata": {},
   "source": [
    "#### 28. What are the result of the following expressions? (★☆☆)\n",
    "```python\n",
    "np.array(0) / np.array(0)\n",
    "np.array(0) // np.array(0)\n",
    "np.array([np.nan]).astype(int).astype(float)\n",
    "```\n",
    "Consider an integer vector a\n",
    "```python\n",
    "a**a\n",
    "a << a >> 2\n",
    "a <- a\n",
    "1j*a\n",
    "a/1/1\n",
    "a<a>a\n",
    "```"
   ]
  },
  {
   "cell_type": "code",
   "execution_count": 260,
   "id": "50d84cdf",
   "metadata": {},
   "outputs": [
    {
     "name": "stdout",
     "output_type": "stream",
     "text": [
      "nan\n",
      "0\n"
     ]
    },
    {
     "name": "stderr",
     "output_type": "stream",
     "text": [
      "C:\\Users\\ADMINI~1\\AppData\\Local\\Temp/ipykernel_14564/3474556150.py:1: RuntimeWarning: invalid value encountered in true_divide\n",
      "  print(np.array(0) / np.array(0))\n",
      "C:\\Users\\ADMINI~1\\AppData\\Local\\Temp/ipykernel_14564/3474556150.py:2: RuntimeWarning: divide by zero encountered in floor_divide\n",
      "  print(np.array(0) // np.array(0))\n"
     ]
    },
    {
     "data": {
      "text/plain": [
       "array([-2.14748365e+09])"
      ]
     },
     "execution_count": 260,
     "metadata": {},
     "output_type": "execute_result"
    }
   ],
   "source": [
    "print(np.array(0) / np.array(0))\n",
    "print(np.array(0) // np.array(0))\n",
    "np.array([np.nan]).astype(int).astype(float)"
   ]
  },
  {
   "cell_type": "markdown",
   "id": "22713c3f",
   "metadata": {},
   "source": [
    "#### 29. How to round away from zero a float array ? (★☆☆)\n",
    "`💡hint: np.uniform, np.copysign, np.ceil, np.abs, np.where`"
   ]
  },
  {
   "cell_type": "code",
   "execution_count": 391,
   "id": "85ebdda9",
   "metadata": {},
   "outputs": [
    {
     "data": {
      "text/plain": [
       "array([1., 1., 1., 1., 1.])"
      ]
     },
     "execution_count": 391,
     "metadata": {},
     "output_type": "execute_result"
    }
   ],
   "source": [
    "a29=np.random.random(5)\n",
    "b29=np.ceil(a29)\n",
    "b29"
   ]
  },
  {
   "cell_type": "markdown",
   "id": "f1ae2c2d",
   "metadata": {},
   "source": [
    "#### 30. How to find common values between two arrays? (★☆☆)\n",
    "`💡hint: np.intersect1d`"
   ]
  },
  {
   "cell_type": "code",
   "execution_count": 267,
   "id": "097482ad",
   "metadata": {},
   "outputs": [
    {
     "data": {
      "text/plain": [
       "array([4, 5])"
      ]
     },
     "execution_count": 267,
     "metadata": {},
     "output_type": "execute_result"
    }
   ],
   "source": [
    "a30=array([1,2,3,4,5])\n",
    "b30=array([4,5,6,7,8])\n",
    "c30=np.intersect1d(a30,b30)\n",
    "c30"
   ]
  },
  {
   "cell_type": "markdown",
   "id": "34a7bdee",
   "metadata": {},
   "source": [
    "#### 31. How to ignore all numpy warnings (not recommended)? (★☆☆)\n",
    "`💡hint: np.seterr, np.errstate`"
   ]
  },
  {
   "cell_type": "code",
   "execution_count": 268,
   "id": "95ba8c7d",
   "metadata": {},
   "outputs": [],
   "source": []
  },
  {
   "cell_type": "markdown",
   "id": "37bc0973",
   "metadata": {},
   "source": [
    "#### 32. Is the following expressions true? (★☆☆)\n",
    "```python\n",
    "np.sqrt(-1) == np.emath.sqrt(-1)\n",
    "```\n",
    "`💡hint: imaginary number`"
   ]
  },
  {
   "cell_type": "code",
   "execution_count": 270,
   "id": "6925e9db",
   "metadata": {},
   "outputs": [
    {
     "name": "stderr",
     "output_type": "stream",
     "text": [
      "C:\\Users\\ADMINI~1\\AppData\\Local\\Temp/ipykernel_14564/244602691.py:1: RuntimeWarning: invalid value encountered in sqrt\n",
      "  np.sqrt(-1) == np.emath.sqrt(-1)\n"
     ]
    },
    {
     "data": {
      "text/plain": [
       "False"
      ]
     },
     "execution_count": 270,
     "metadata": {},
     "output_type": "execute_result"
    }
   ],
   "source": [
    "np.sqrt(-1) == np.emath.sqrt(-1)\n",
    "# np.emath can return a imaginary number while common sqrt cant"
   ]
  },
  {
   "cell_type": "markdown",
   "id": "129c342d",
   "metadata": {},
   "source": [
    "#### 33. How to get the dates of yesterday, today and tomorrow? (★☆☆)\n",
    "`💡hint: np.datetime64, np.timedelta64`"
   ]
  },
  {
   "cell_type": "code",
   "execution_count": 283,
   "id": "0fd2f947",
   "metadata": {},
   "outputs": [
    {
     "name": "stdout",
     "output_type": "stream",
     "text": [
      "2022-04-23\n",
      "220422\n"
     ]
    }
   ],
   "source": [
    "import datetime\n",
    "today=datetime.date.today()\n",
    "print(today)\n",
    "formatted_today=today.strftime('%y%m%d')\n",
    "yesterday=int(formatted_today)-1\n",
    "print(yesterday)\n"
   ]
  },
  {
   "cell_type": "markdown",
   "id": "42f8b2f9",
   "metadata": {},
   "source": [
    "#### 34. How to get all the dates corresponding to the month of January 2016? (★★☆)\n",
    "`💡hint: np.arange(dtype=datetime64['D'])`"
   ]
  },
  {
   "cell_type": "code",
   "execution_count": 301,
   "id": "5ad086b0",
   "metadata": {},
   "outputs": [
    {
     "name": "stdout",
     "output_type": "stream",
     "text": [
      "    January 2016\n",
      "Mo Tu We Th Fr Sa Su\n",
      "             1  2  3\n",
      " 4  5  6  7  8  9 10\n",
      "11 12 13 14 15 16 17\n",
      "18 19 20 21 22 23 24\n",
      "25 26 27 28 29 30 31\n",
      "\n"
     ]
    }
   ],
   "source": [
    "import calendar\n",
    "print(calendar.month(2016,1,w=0,l=0))\n"
   ]
  },
  {
   "cell_type": "markdown",
   "id": "252c43e2",
   "metadata": {},
   "source": [
    "#### 35. How to compute ((A+B)*(-A/2)) in place (without copy)? (★★☆)\n",
    "`💡hint: np.add(out=), np.negative(out=), np.multiply(out=), np.divide(out=)`"
   ]
  },
  {
   "cell_type": "code",
   "execution_count": 305,
   "id": "34488d4b",
   "metadata": {},
   "outputs": [
    {
     "data": {
      "text/plain": [
       "array([[  0. , -31.5,  -8. , -21. ],\n",
       "       [  0. ,   0. , -14. , -27.5],\n",
       "       [ -6. ,   0. ,   0. , -24. ]])"
      ]
     },
     "execution_count": 305,
     "metadata": {},
     "output_type": "execute_result"
    }
   ],
   "source": [
    "A=np.random.randint(10,size=(3,4))\n",
    "B=np.random.randint(10,size=(3,4))\n",
    "a35=np.add(A,B)\n",
    "b35=np.negative(A)\n",
    "c35=np.divide(b35,2)\n",
    "consequence=np.multiply(a35,c35)\n",
    "consequence"
   ]
  },
  {
   "cell_type": "markdown",
   "id": "486df8ea",
   "metadata": {},
   "source": [
    "#### 36. Extract the integer part of a random array of positive numbers using 4 different methods (★★☆)\n",
    "`💡hint: %, np.floor, astype, np.trunc`"
   ]
  },
  {
   "cell_type": "code",
   "execution_count": 311,
   "id": "2680c1ca",
   "metadata": {},
   "outputs": [
    {
     "name": "stdout",
     "output_type": "stream",
     "text": [
      "float64\n"
     ]
    }
   ],
   "source": []
  },
  {
   "cell_type": "markdown",
   "id": "649e89f9",
   "metadata": {},
   "source": [
    "#### 37. Create a 3x3 matrix with row values ranging from 0 to 2 (★★☆)\n",
    "`💡hint: np.arange`"
   ]
  },
  {
   "cell_type": "code",
   "execution_count": 412,
   "id": "e832212f",
   "metadata": {},
   "outputs": [
    {
     "data": {
      "text/plain": [
       "array([[0, 1, 2],\n",
       "       [0, 1, 2],\n",
       "       [0, 1, 2]])"
      ]
     },
     "execution_count": 412,
     "metadata": {},
     "output_type": "execute_result"
    }
   ],
   "source": [
    "a37=np.arange(0,3)\n",
    "b37=np.vstack((a37,a37,a37))\n",
    "np.matrix(b37)\n",
    "b37"
   ]
  },
  {
   "cell_type": "markdown",
   "id": "3421e17f",
   "metadata": {},
   "source": [
    "#### 38. Consider a generator function that generates 9 integers and use it to build an array (★☆☆)\n",
    "`💡hint: np.fromiter`"
   ]
  },
  {
   "cell_type": "code",
   "execution_count": 318,
   "id": "d97fcb71",
   "metadata": {},
   "outputs": [
    {
     "name": "stdout",
     "output_type": "stream",
     "text": [
      "[0. 1. 2. 3. 4. 5. 6. 7. 8. 9.]\n"
     ]
    }
   ],
   "source": [
    "import numpy as np\n",
    "def generate(a):\n",
    "    list = range(a)\n",
    "    a38 = iter(list)\n",
    "    x = np.fromiter(a38, dtype = float)\n",
    "    print(x)\n",
    "generate(10)\n"
   ]
  },
  {
   "cell_type": "markdown",
   "id": "483dd554",
   "metadata": {},
   "source": [
    "#### 39. Create a vector of size 10 with values ranging from 0 to 1, both excluded (★★☆)\n",
    "`💡hint: np.linspace`"
   ]
  },
  {
   "cell_type": "code",
   "execution_count": 326,
   "id": "572668cb",
   "metadata": {},
   "outputs": [
    {
     "data": {
      "text/plain": [
       "array([0.09090909, 0.18181818, 0.27272727, 0.36363636, 0.45454545,\n",
       "       0.54545455, 0.63636364, 0.72727273, 0.81818182, 0.90909091])"
      ]
     },
     "execution_count": 326,
     "metadata": {},
     "output_type": "execute_result"
    }
   ],
   "source": [
    "a39=np.linspace(0,1,11,endpoint=False)\n",
    "b39=np.delete(a39,0)\n",
    "b39"
   ]
  },
  {
   "cell_type": "markdown",
   "id": "2d07be1c",
   "metadata": {},
   "source": [
    "#### 40. Create a random vector of size 10 and sort it (★★☆)\n",
    "`💡hint: sort`"
   ]
  },
  {
   "cell_type": "code",
   "execution_count": 333,
   "id": "046a541a",
   "metadata": {},
   "outputs": [
    {
     "name": "stdout",
     "output_type": "stream",
     "text": [
      "[0.05536604 0.28730518 0.30391231 0.40768703 0.45035059 0.52639952\n",
      " 0.62381221 0.68624165 0.77677546 0.78853488]\n"
     ]
    }
   ],
   "source": [
    "np.random.seed(40)\n",
    "a40=np.random.random(size=10)\n",
    "print(np.sort(a40))"
   ]
  },
  {
   "cell_type": "markdown",
   "id": "6415f02e",
   "metadata": {},
   "source": [
    "#### 41. How to sum a small array faster than np.sum? (★★☆)\n",
    "`💡hint: np.add.reduce`"
   ]
  },
  {
   "cell_type": "code",
   "execution_count": 339,
   "id": "129e785f",
   "metadata": {},
   "outputs": [
    {
     "data": {
      "text/plain": [
       "array([[2, 2],\n",
       "       [3, 5]])"
      ]
     },
     "execution_count": 339,
     "metadata": {},
     "output_type": "execute_result"
    }
   ],
   "source": [
    "a41=np.random.randint(4,size=(2,2,2))\n",
    "np.add.reduce(a41)"
   ]
  },
  {
   "cell_type": "markdown",
   "id": "fe043549",
   "metadata": {},
   "source": [
    "#### 42. Consider two random array A and B, check if they are equal (★★☆)\n",
    "`💡hint: np.allclose, np.array_equal`"
   ]
  },
  {
   "cell_type": "code",
   "execution_count": 343,
   "id": "7ada2e2b",
   "metadata": {},
   "outputs": [
    {
     "data": {
      "text/plain": [
       "True"
      ]
     },
     "execution_count": 343,
     "metadata": {},
     "output_type": "execute_result"
    }
   ],
   "source": [
    "a42=np.random.randint(2)\n",
    "b42=np.random.randint(2)\n",
    "np.allclose(a42,b42)"
   ]
  },
  {
   "cell_type": "markdown",
   "id": "cc08f71c",
   "metadata": {},
   "source": [
    "#### 43. Make an array immutable (read-only) (★★☆)\n",
    "`💡hint: flags.writeable`"
   ]
  },
  {
   "cell_type": "code",
   "execution_count": 357,
   "id": "0b91afd1",
   "metadata": {},
   "outputs": [
    {
     "ename": "ValueError",
     "evalue": "assignment destination is read-only",
     "output_type": "error",
     "traceback": [
      "\u001b[1;31m---------------------------------------------------------------------------\u001b[0m",
      "\u001b[1;31mValueError\u001b[0m                                Traceback (most recent call last)",
      "\u001b[1;32mC:\\Users\\ADMINI~1\\AppData\\Local\\Temp/ipykernel_14564/1225673705.py\u001b[0m in \u001b[0;36m<module>\u001b[1;34m\u001b[0m\n\u001b[0;32m      1\u001b[0m \u001b[0ma43\u001b[0m\u001b[1;33m=\u001b[0m\u001b[0mnp\u001b[0m\u001b[1;33m.\u001b[0m\u001b[0mzeros\u001b[0m\u001b[1;33m(\u001b[0m\u001b[1;33m(\u001b[0m\u001b[1;36m2\u001b[0m\u001b[1;33m,\u001b[0m\u001b[1;36m2\u001b[0m\u001b[1;33m)\u001b[0m\u001b[1;33m)\u001b[0m\u001b[1;33m\u001b[0m\u001b[1;33m\u001b[0m\u001b[0m\n\u001b[0;32m      2\u001b[0m \u001b[0ma43\u001b[0m\u001b[1;33m.\u001b[0m\u001b[0mflags\u001b[0m\u001b[1;33m.\u001b[0m\u001b[0mwriteable\u001b[0m\u001b[1;33m=\u001b[0m\u001b[1;32mFalse\u001b[0m\u001b[1;33m\u001b[0m\u001b[1;33m\u001b[0m\u001b[0m\n\u001b[1;32m----> 3\u001b[1;33m \u001b[0ma43\u001b[0m\u001b[1;33m[\u001b[0m\u001b[1;36m0\u001b[0m\u001b[1;33m]\u001b[0m\u001b[1;33m[\u001b[0m\u001b[1;36m0\u001b[0m\u001b[1;33m]\u001b[0m\u001b[1;33m=\u001b[0m\u001b[1;36m1\u001b[0m\u001b[1;33m\u001b[0m\u001b[1;33m\u001b[0m\u001b[0m\n\u001b[0m",
      "\u001b[1;31mValueError\u001b[0m: assignment destination is read-only"
     ]
    }
   ],
   "source": [
    "a43=np.zeros((2,2))\n",
    "a43.flags.writeable=False\n",
    "a43[0][0]=1"
   ]
  },
  {
   "cell_type": "markdown",
   "id": "2002cb03",
   "metadata": {},
   "source": [
    "#### 44. Consider a random 5x2 matrix representing cartesian coordinates, convert them to polar coordinates (★★☆)\n",
    "`💡hint: np.sqrt, np.arctan2`"
   ]
  },
  {
   "cell_type": "code",
   "execution_count": 389,
   "id": "16476671",
   "metadata": {},
   "outputs": [
    {
     "data": {
      "text/plain": [
       "array([[2.82842712, 1.10714872],\n",
       "       [1.41421356, 0.24497866],\n",
       "       [1.41421356, 0.78539816],\n",
       "       [1.41421356, 0.32175055],\n",
       "       [5.65685425, 1.10714872]])"
      ]
     },
     "execution_count": 389,
     "metadata": {},
     "output_type": "execute_result"
    }
   ],
   "source": [
    "a44=np.random.randint(5,size=(5,2))\n",
    "x44=a44[:,0]\n",
    "y44=a44[:,1]\n",
    "R=np.sqrt(np.power(x44,2)+np.power(x44,2))\n",
    "theta=np.arctan2(x44,y44)\n",
    "R=R.reshape(5,1)\n",
    "theta=theta.reshape(5,1)\n",
    "b44=np.hstack((R,theta))\n",
    "b44"
   ]
  },
  {
   "cell_type": "markdown",
   "id": "b7109c9f",
   "metadata": {},
   "source": [
    "#### 45. Create random vector of size 5 and replace the maximum value by 0 (★★☆)\n",
    "`💡hint: argmax`"
   ]
  },
  {
   "cell_type": "code",
   "execution_count": 2,
   "id": "89b75e6d",
   "metadata": {},
   "outputs": [
    {
     "ename": "NameError",
     "evalue": "name 'np' is not defined",
     "output_type": "error",
     "traceback": [
      "\u001b[1;31m---------------------------------------------------------------------------\u001b[0m",
      "\u001b[1;31mNameError\u001b[0m                                 Traceback (most recent call last)",
      "\u001b[1;32mC:\\Users\\ADMINI~1\\AppData\\Local\\Temp/ipykernel_11532/1838139427.py\u001b[0m in \u001b[0;36m<module>\u001b[1;34m\u001b[0m\n\u001b[1;32m----> 1\u001b[1;33m \u001b[0mbbb\u001b[0m\u001b[1;33m=\u001b[0m\u001b[0mnp\u001b[0m\u001b[1;33m.\u001b[0m\u001b[0marray\u001b[0m\u001b[1;33m(\u001b[0m\u001b[1;33m[\u001b[0m\u001b[1;36m100\u001b[0m\u001b[1;33m,\u001b[0m\u001b[1;36m150\u001b[0m\u001b[1;33m,\u001b[0m\u001b[1;36m888\u001b[0m\u001b[1;33m,\u001b[0m\u001b[1;36m999\u001b[0m\u001b[1;33m,\u001b[0m\u001b[1;36m666\u001b[0m\u001b[1;33m]\u001b[0m\u001b[1;33m)\u001b[0m\u001b[1;33m\u001b[0m\u001b[1;33m\u001b[0m\u001b[0m\n\u001b[0m\u001b[0;32m      2\u001b[0m \u001b[0mbbb\u001b[0m\u001b[1;33m[\u001b[0m\u001b[0mbbb\u001b[0m\u001b[1;33m.\u001b[0m\u001b[0margmax\u001b[0m\u001b[1;33m(\u001b[0m\u001b[1;33m)\u001b[0m\u001b[1;33m]\u001b[0m\u001b[1;33m=\u001b[0m\u001b[1;36m0\u001b[0m\u001b[1;33m\u001b[0m\u001b[1;33m\u001b[0m\u001b[0m\n\u001b[0;32m      3\u001b[0m \u001b[0mprint\u001b[0m\u001b[1;33m(\u001b[0m\u001b[0mbbb\u001b[0m\u001b[1;33m)\u001b[0m\u001b[1;33m\u001b[0m\u001b[1;33m\u001b[0m\u001b[0m\n",
      "\u001b[1;31mNameError\u001b[0m: name 'np' is not defined"
     ]
    }
   ],
   "source": [
    "bbb=np.array([100,150,888,999,666])\n",
    "bbb[bbb.argmax()]=0\n",
    "print(bbb)"
   ]
  },
  {
   "cell_type": "markdown",
   "id": "7d3131b9",
   "metadata": {},
   "source": [
    "#### 46. Create a structured array with `x` and `y` coordinates covering the [0,1]x[0,1] area (★★☆)\n",
    "`💡hint: np.meshgrid`"
   ]
  },
  {
   "cell_type": "code",
   "execution_count": 6,
   "id": "445532d0",
   "metadata": {},
   "outputs": [
    {
     "name": "stdout",
     "output_type": "stream",
     "text": [
      "[[0 1 0 1]\n",
      " [0 1 0 1]\n",
      " [0 1 0 1]\n",
      " [0 1 0 1]]\n",
      "[[0 0 0 0]\n",
      " [0 0 0 0]\n",
      " [1 1 1 1]\n",
      " [1 1 1 1]]\n"
     ]
    },
    {
     "data": {
      "image/png": "[encoded data removed]",
      "text/plain": [
       "<Figure size 432x288 with 1 Axes>"
      ]
     },
     "metadata": {
      "needs_background": "light"
     },
     "output_type": "display_data"
    }
   ],
   "source": [
    "import numpy as np\n",
    "import matplotlib.pyplot as plt\n",
    "a46=np.array([0,1,0,1])\n",
    "b46=np.array([0,0,1,1])\n",
    "A46,B46=np.meshgrid(a46,b46)\n",
    "print(A46)\n",
    "print(B46)\n",
    "plt.plot(A46, B46,\n",
    "         color='red', \n",
    "         marker='.', \n",
    "         linestyle='')  \n",
    "plt.grid(True)\n",
    "plt.show()\n"
   ]
  },
  {
   "cell_type": "markdown",
   "id": "7c8c1fc5",
   "metadata": {},
   "source": [
    "#### 47. Given two arrays, X and Y, construct the Cauchy matrix C (Cij =1/(xi - yj)) (★★☆)\n",
    "`💡hint: np.subtract.outer`"
   ]
  },
  {
   "cell_type": "code",
   "execution_count": 8,
   "id": "7668afae",
   "metadata": {},
   "outputs": [
    {
     "data": {
      "text/plain": [
       "array([[ 1,  0, -1, -2, -3, -4],\n",
       "       [ 2,  1,  0, -1, -2, -3],\n",
       "       [ 3,  2,  1,  0, -1, -2],\n",
       "       [ 4,  3,  2,  1,  0, -1],\n",
       "       [ 5,  4,  3,  2,  1,  0],\n",
       "       [ 6,  5,  4,  3,  2,  1]])"
      ]
     },
     "execution_count": 8,
     "metadata": {},
     "output_type": "execute_result"
    }
   ],
   "source": [
    "a47=np.arange(2, 8)\n",
    "\n",
    "b47=np.arange(1, 7)\n",
    "c47=np.subtract.outer(a47, b47)\n",
    "c47\n"
   ]
  },
  {
   "cell_type": "markdown",
   "id": "5795b4bd",
   "metadata": {},
   "source": [
    "#### 48. Print the minimum and maximum representable value for each numpy scalar type (★★☆)\n",
    "`💡hint: np.iinfo, np.finfo, eps`"
   ]
  },
  {
   "cell_type": "code",
   "execution_count": null,
   "id": "f2eaddaa",
   "metadata": {},
   "outputs": [],
   "source": []
  },
  {
   "cell_type": "markdown",
   "id": "fb24674c",
   "metadata": {},
   "source": [
    "#### 49. How to print all the values of an array? (★★☆)\n",
    "`💡hint: np.set_printoptions`"
   ]
  },
  {
   "cell_type": "code",
   "execution_count": 23,
   "id": "9bdfaefe",
   "metadata": {},
   "outputs": [
    {
     "data": {
      "text/plain": [
       "array([1, 2, 3, ..., 8, 9, 0])"
      ]
     },
     "execution_count": 23,
     "metadata": {},
     "output_type": "execute_result"
    }
   ],
   "source": [
    "np.set_printoptions(threshold=1)\n",
    "a49=np.array([1,2,3,4,5,6,7,8,9,0])\n",
    "a49"
   ]
  },
  {
   "cell_type": "markdown",
   "id": "e6e1ae2f",
   "metadata": {},
   "source": [
    "#### 50. How to find the closest value (to a given scalar) in a vector? (★★☆)\n",
    "`💡hint: argmin`"
   ]
  },
  {
   "cell_type": "code",
   "execution_count": 37,
   "id": "29a9e416",
   "metadata": {},
   "outputs": [
    {
     "name": "stdout",
     "output_type": "stream",
     "text": [
      "6\n"
     ]
    }
   ],
   "source": [
    "a50=np.array([1,2,3,4,5,6,7,8,9,0])\n",
    "b50=5.67890\n",
    "c50=(np.abs(a50-b50)).argmin()\n",
    "print(a50[c50])"
   ]
  },
  {
   "cell_type": "markdown",
   "id": "c01f0ecf",
   "metadata": {},
   "source": [
    "#### 51. Create a structured array representing a position (x,y) and a color (r,g,b) (★★☆)\n",
    "`💡hint: dtype`"
   ]
  },
  {
   "cell_type": "code",
   "execution_count": 46,
   "id": "a3241eca",
   "metadata": {},
   "outputs": [
    {
     "name": "stderr",
     "output_type": "stream",
     "text": [
      "C:\\Users\\ADMINI~1\\AppData\\Local\\Temp/ipykernel_11532/2426389872.py:1: FutureWarning: Passing (type, 1) or '1type' as a synonym of type is deprecated; in a future version of numpy, it will be understood as (type, (1,)) / '(1,)type'.\n",
      "  a51=np.zeros(3,[('position',[('x',int,1),('y',int,1)]),('color',[('r',int,1),('g',int,1),('b',int,1)])])\n"
     ]
    },
    {
     "data": {
      "text/plain": [
       "array([((0, 0), (0, 0, 0)), ((0, 0), (0, 0, 0)), ((0, 0), (0, 0, 0))],\n",
       "      dtype=[('position', [('x', '<i4'), ('y', '<i4')]), ('color', [('r', '<i4'), ('g', '<i4'), ('b', '<i4')])])"
      ]
     },
     "execution_count": 46,
     "metadata": {},
     "output_type": "execute_result"
    }
   ],
   "source": [
    "a51=np.zeros(3,[('position',[('x',int,1),('y',int,1)]),('color',[('r',int,1),('g',int,1),('b',int,1)])])\n",
    "a51"
   ]
  },
  {
   "cell_type": "markdown",
   "id": "3b64a18b",
   "metadata": {},
   "source": [
    "#### 52. Consider a random vector with shape (100,2) representing coordinates, find point by point distances (★★☆)\n",
    "`💡hint: np.atleast_2d, T, np.sqrt`"
   ]
  },
  {
   "cell_type": "code",
   "execution_count": 67,
   "id": "f27585c3",
   "metadata": {},
   "outputs": [
    {
     "data": {
      "text/plain": [
       "array([[0.                 , 0.9824415898277125 , 0.19140340716871204,\n",
       "        0.8636013446694638 , 0.19430644990322019],\n",
       "       [0.9824415898277125 , 0.                 , 0.9055257858022316 ,\n",
       "        0.1706406936928473 , 1.1087545985456437 ],\n",
       "       [0.19140340716871204, 0.9055257858022316 , 0.                 ,\n",
       "        0.7652562413814542 , 0.20806336241232798],\n",
       "       [0.8636013446694638 , 0.1706406936928473 , 0.7652562413814542 ,\n",
       "        0.                 , 0.9720915121822747 ],\n",
       "       [0.19430644990322019, 1.1087545985456437 , 0.20806336241232798,\n",
       "        0.9720915121822747 , 0.                 ]])"
      ]
     },
     "execution_count": 67,
     "metadata": {},
     "output_type": "execute_result"
    }
   ],
   "source": [
    "np.set_printoptions(threshold=1000000)\n",
    "a52=np.random.random(10)\n",
    "b52=np.reshape(a52,(-1,2))\n",
    "c52,d52=np.atleast_2d(b52[:,0],b52[:,1])\n",
    "e52=np.sqrt((c52-c52.T)**2+(d52-d52.T)**2)\n",
    "e52"
   ]
  },
  {
   "cell_type": "markdown",
   "id": "48413134",
   "metadata": {},
   "source": [
    "#### 53. How to convert a float (32 bits) array into an integer (32 bits) in place?\n",
    "`💡hint: view and [:] =`"
   ]
  },
  {
   "cell_type": "code",
   "execution_count": 469,
   "id": "59c8357d",
   "metadata": {},
   "outputs": [
    {
     "name": "stdout",
     "output_type": "stream",
     "text": [
      "[0. 1. 2. 3. 4. 5. 6. 7. 8. 9.]\n",
      "[0 1 2 3 4 5 6 7 8 9]\n"
     ]
    }
   ],
   "source": [
    "a53=np.arange(10,dtype=np.float32)\n",
    "b53=a53.astype(np.int32)\n",
    "print(a53.view())\n",
    "print(b53)\n"
   ]
  },
  {
   "cell_type": "markdown",
   "id": "0a532633",
   "metadata": {},
   "source": [
    "#### 54. How to read the following file? (★★☆)\n",
    "```\n",
    "1, 2, 3, 4, 5\n",
    "6,  ,  , 7, 8\n",
    " ,  , 9,10,11\n",
    "```\n",
    "`💡hint: np.genfromtxt`"
   ]
  },
  {
   "cell_type": "code",
   "execution_count": 84,
   "id": "81b2915b",
   "metadata": {},
   "outputs": [
    {
     "name": "stderr",
     "output_type": "stream",
     "text": [
      "C:\\Users\\ADMINI~1\\AppData\\Local\\Temp/ipykernel_11532/1495585200.py:3: DeprecationWarning: `np.int` is a deprecated alias for the builtin `int`. To silence this warning, use `int` by itself. Doing this will not modify any behavior and is safe. When replacing `np.int`, you may wish to use e.g. `np.int64` or `np.int32` to specify the precision. If you wish to review your current use, check the release note link for additional information.\n",
      "Deprecated in NumPy 1.20; for more details and guidance: https://numpy.org/devdocs/release/1.20.0-notes.html#deprecations\n",
      "  b54=np.genfromtxt(a54,delimiter=',',dtype=np.int)\n"
     ]
    },
    {
     "data": {
      "text/plain": [
       "array([[ 1,  2,  3,  4,  5],\n",
       "       [ 6, -1, -1,  7,  8],\n",
       "       [-1, -1,  9, 10, 11]])"
      ]
     },
     "execution_count": 84,
     "metadata": {},
     "output_type": "execute_result"
    }
   ],
   "source": [
    "from io import StringIO\n",
    "a54=StringIO('''1,2,3,4,5\\n6,,,7,8\\n,,9,10,11''')\n",
    "b54=np.genfromtxt(a54,delimiter=',',dtype=np.int)\n",
    "b54"
   ]
  },
  {
   "cell_type": "markdown",
   "id": "f98713a6",
   "metadata": {},
   "source": [
    "#### 55. What is the equivalent of enumerate for numpy arrays? (★★☆)\n",
    "`💡hint: np.ndenumerate, np.ndindex`"
   ]
  },
  {
   "cell_type": "code",
   "execution_count": 95,
   "id": "c8ace8dc",
   "metadata": {},
   "outputs": [
    {
     "name": "stdout",
     "output_type": "stream",
     "text": [
      "(0, 0)\n",
      "0.6503962054081871\n",
      "(0, 1)\n",
      "0.8146462245110417\n",
      "(1, 0)\n",
      "0.10954407498341223\n",
      "(1, 1)\n",
      "0.6417025116902956\n",
      "(2, 0)\n",
      "0.8589097327046857\n",
      "(2, 1)\n",
      "0.34928571044978585\n",
      "(3, 0)\n",
      "0.2857000339593023\n",
      "(3, 1)\n",
      "0.8909979834627292\n",
      "(0, 0)\n",
      "0.6503962054081871\n",
      "(0, 1)\n",
      "0.8146462245110417\n",
      "(1, 0)\n",
      "0.10954407498341223\n",
      "(1, 1)\n",
      "0.6417025116902956\n",
      "(2, 0)\n",
      "0.8589097327046857\n",
      "(2, 1)\n",
      "0.34928571044978585\n",
      "(3, 0)\n",
      "0.2857000339593023\n",
      "(3, 1)\n",
      "0.8909979834627292\n"
     ]
    }
   ],
   "source": [
    "a55=np.random.rand(4,2)\n",
    "for index55,value55 in np.ndenumerate(a55):\n",
    "    print(index55)\n",
    "    print(value55)\n",
    "#equivalant\n",
    "for index552 in np.ndindex(a55.shape):\n",
    "    print(index552)\n",
    "    print(a55[index552])"
   ]
  },
  {
   "cell_type": "markdown",
   "id": "1abc7cc8",
   "metadata": {},
   "source": [
    "#### 56. Generate a generic 2D Gaussian-like array (★★☆)\n",
    "`💡hint: np.meshgrid, np.exp`"
   ]
  },
  {
   "cell_type": "code",
   "execution_count": 99,
   "id": "8389dbf6",
   "metadata": {},
   "outputs": [
    {
     "data": {
      "text/plain": [
       "array([[0.6044956256467816, 0.6965097170410252, 0.6842779556274525,\n",
       "        0.6906911885854534, 0.6885245368066075, 0.6588615498938346,\n",
       "        0.6719660540875882, 0.6059542381689222, 0.6834377987814294,\n",
       "        0.6941111719649076],\n",
       "       [0.6069321957457087, 0.7006179479982511, 0.6875240788268198,\n",
       "        0.6941986353070955, 0.6942022254494317, 0.6616467732285791,\n",
       "        0.6749304713635372, 0.6083965023099575, 0.6866582485020255,\n",
       "        0.6978582939457056],\n",
       "       [0.5113426576358611, 0.6051253749641102, 0.5897443295202369,\n",
       "        0.5967470804628644, 0.6105857646797092, 0.5643158314129118,\n",
       "        0.5772440073669329, 0.5127594647803259, 0.5888664459972995,\n",
       "        0.6010036425525519],\n",
       "       [0.5681088466247721, 0.6511505963577545, 0.6421201109737166,\n",
       "        0.6472758232996726, 0.64385597564475  , 0.6196029397895559,\n",
       "        0.6314710772715206, 0.5695143717530499, 0.641417948019401 ,\n",
       "        0.6497678920492637],\n",
       "       [0.5243289556967333, 0.6143249555834909, 0.6008235176681703,\n",
       "        0.6072287418337546, 0.6168090010276933, 0.5765017257404292,\n",
       "        0.5889935527285934, 0.5257350399374773, 0.600005658857085 ,\n",
       "        0.6109590081865125],\n",
       "       [0.5554313446224965, 0.6392697716262555, 0.6293890557723482,\n",
       "        0.6347348141015086, 0.6346567057717563, 0.6067460067959513,\n",
       "        0.6186256077130358, 0.5568306951064352, 0.6286722455860247,\n",
       "        0.6374578080405494],\n",
       "       [0.5021492837940174, 0.5989282810860682, 0.5821367705705389,\n",
       "        0.5895989724126992, 0.6064767468970211, 0.5558186480618612,\n",
       "        0.5691046966358482, 0.503576109663995 , 0.5812120338144816,\n",
       "        0.5942510252683284],\n",
       "       [0.5218866041992307, 0.6125505349269471, 0.5987074321768415,\n",
       "        0.6052197582013146, 0.6155961831888012, 0.5741923736257747,\n",
       "        0.5867594763636236, 0.5232943811459811, 0.5978789080426052,\n",
       "        0.6090456065155704],\n",
       "       [0.5675317394205248, 0.6505804821816612, 0.641523475719255 ,\n",
       "        0.6466834281704678, 0.6434009768154751, 0.6190098340482508,\n",
       "        0.630874684533697 , 0.5689368581246039, 0.6408211134342094,\n",
       "        0.6491825198211821],\n",
       "       [0.6024587002416613, 0.6932336806353947, 0.6816165127656822,\n",
       "        0.6878372973932197, 0.6843390875229818, 0.6565507228292854,\n",
       "        0.6695173111612654, 0.6039127774447463, 0.6807955225288778,\n",
       "        0.6910852750111898]])"
      ]
     },
     "execution_count": 99,
     "metadata": {},
     "output_type": "execute_result"
    }
   ],
   "source": [
    "a56,b56=np.meshgrid(np.random.random(10),np.random.random(10))\n",
    "c56=np.sqrt(a56*a56+b56*b56)\n",
    "gaussianarray=np.exp(-(c56-0)**a56/(2.0*1**2))\n",
    "gaussianarray"
   ]
  },
  {
   "cell_type": "markdown",
   "id": "0cf413ee",
   "metadata": {},
   "source": [
    "#### 57. How to randomly place e elements in a 2D array? (★★☆)\n",
    "`💡hint: np.put, np.random.choice`"
   ]
  },
  {
   "cell_type": "code",
   "execution_count": 473,
   "id": "884c88de",
   "metadata": {},
   "outputs": [
    {
     "data": {
      "text/plain": [
       "array([[1., 6., 1.],\n",
       "       [1., 1., 1.],\n",
       "       [1., 1., 6.]])"
      ]
     },
     "execution_count": 473,
     "metadata": {},
     "output_type": "execute_result"
    }
   ],
   "source": [
    "a57=np.ones((3,3))\n",
    "np.put(a57,np.random.choice(range(3*3),np.random.randint(10),replace=False),np.random.randint(10))\n",
    "a57"
   ]
  },
  {
   "cell_type": "markdown",
   "id": "215b6acc",
   "metadata": {},
   "source": [
    "#### 58. Subtract the mean of each row of a matrix (★★☆)\n",
    "`💡hint: mean(axis=,keepdims=)`"
   ]
  },
  {
   "cell_type": "code",
   "execution_count": 471,
   "id": "76d3b16a",
   "metadata": {},
   "outputs": [
    {
     "data": {
      "text/plain": [
       "1"
      ]
     },
     "execution_count": 471,
     "metadata": {},
     "output_type": "execute_result"
    }
   ],
   "source": [
    "a57=np.matrix(np.arange(9).reshape((3,3)))\n",
    "b57=a57-a57.mean(axis=1,keepdims=True)\n",
    "b57"
   ]
  },
  {
   "cell_type": "markdown",
   "id": "c0cf37e0",
   "metadata": {},
   "source": [
    "#### 59. How to sort an array by the nth column? (★★☆)\n",
    "`💡hint: argsort`"
   ]
  },
  {
   "cell_type": "code",
   "execution_count": 126,
   "id": "f99dfd2a",
   "metadata": {},
   "outputs": [
    {
     "data": {
      "text/plain": [
       "array([[0.7973306045258065 , 0.07179498420808927, 0.6764215125508812 ],\n",
       "       [0.8769531048028388 , 0.7915743304597054 , 0.9810411939986768 ],\n",
       "       [0.4465928545069139 , 0.8785932951261577 , 0.8297293636208527 ]])"
      ]
     },
     "execution_count": 126,
     "metadata": {},
     "output_type": "execute_result"
    }
   ],
   "source": [
    "a57=np.random.random(9).reshape(3,3)\n",
    "a57[a57[:,1].argsort()]"
   ]
  },
  {
   "cell_type": "markdown",
   "id": "c17fb213",
   "metadata": {},
   "source": [
    "#### 60. How to tell if a given 2D array has null columns? (★★☆)\n",
    "`💡hint: any, ~`"
   ]
  },
  {
   "cell_type": "code",
   "execution_count": 127,
   "id": "84346fc8",
   "metadata": {},
   "outputs": [
    {
     "data": {
      "text/plain": [
       "False"
      ]
     },
     "execution_count": 127,
     "metadata": {},
     "output_type": "execute_result"
    }
   ],
   "source": [
    "a58=np.random.random(9).reshape(3,3)\n",
    "(~a58.any(axis=0)).any()"
   ]
  },
  {
   "cell_type": "markdown",
   "id": "8aaab886",
   "metadata": {},
   "source": [
    "#### 61. Find the nearest value from a given value in an array (★★☆)\n",
    "`💡hint: np.abs, argmin, flat`"
   ]
  },
  {
   "cell_type": "code",
   "execution_count": 131,
   "id": "72a6090d",
   "metadata": {},
   "outputs": [
    {
     "data": {
      "text/plain": [
       "7"
      ]
     },
     "execution_count": 131,
     "metadata": {},
     "output_type": "execute_result"
    }
   ],
   "source": [
    "a61=np.random.random(9).reshape(3,3)\n",
    "givenvalue=0.5\n",
    "b61=a61.flat[np.abs(a61-givenvalue).argmin()]\n",
    "b61\n"
   ]
  },
  {
   "cell_type": "markdown",
   "id": "66a04e2e",
   "metadata": {},
   "source": [
    "#### 62. Considering two arrays with shape (1,3) and (3,1), how to compute their sum using an iterator? (★★☆)\n",
    "`💡"
   ]
  },
  {
   "cell_type": "code",
   "execution_count": 135,
   "id": "93774f24",
   "metadata": {},
   "outputs": [
    {
     "data": {
      "text/plain": [
       "array([[0, 1, 2],\n",
       "       [1, 2, 3],\n",
       "       [2, 3, 4]])"
      ]
     },
     "execution_count": 135,
     "metadata": {},
     "output_type": "execute_result"
    }
   ],
   "source": [
    "a62=np.arange(3).reshape(1,3)\n",
    "b62=np.arange(3).reshape(3,1)\n",
    "c62=np.nditer([a62,b62,None])\n",
    "for A62,B62,C62 in c62:\n",
    "    C62[...]=A62+B62\n",
    "c62.operands[2]"
   ]
  },
  {
   "cell_type": "markdown",
   "id": "f4427f7f",
   "metadata": {},
   "source": [
    "#### 63. Create an array class that has a name attribute (★★☆)\n",
    "`💡hint: class method`"
   ]
  },
  {
   "cell_type": "code",
   "execution_count": 474,
   "id": "6e1952ed",
   "metadata": {},
   "outputs": [
    {
     "data": {
      "text/plain": [
       "namearray([], shape=(0, 1, 2, 3, 4, 5, 6, 7), dtype=float64)"
      ]
     },
     "execution_count": 474,
     "metadata": {},
     "output_type": "execute_result"
    }
   ],
   "source": [
    "class namearray(np.ndarray):\n",
    "    def create(cls,array,name='no'):\n",
    "        obj=np.asarray(array).view(cls)\n",
    "        obj.name=name\n",
    "        return obj\n",
    "    def func(num,obj):\n",
    "        if object is None:return\n",
    "        num.info = getattr(object,'name','no')\n",
    "a63=namearray(np.arange(8))\n",
    "a63"
   ]
  },
  {
   "cell_type": "markdown",
   "id": "58be9dd4",
   "metadata": {},
   "source": [
    "#### 64. Consider a given vector, how to add 1 to each element indexed by a second vector (be careful with repeated indices)? (★★★)\n",
    "`💡hint: np.bincount | np.add.at`"
   ]
  },
  {
   "cell_type": "code",
   "execution_count": 157,
   "id": "9cf9e134",
   "metadata": {},
   "outputs": [
    {
     "name": "stdout",
     "output_type": "stream",
     "text": [
      "[1. 1. 1. 1. 1. 1. 1. 1. 1. 0.]\n"
     ]
    }
   ],
   "source": [
    "a64=np.zeros(10)\n",
    "b64=np.arange(9)\n",
    "np.add.at(a64,b64,1)\n",
    "print(a64)"
   ]
  },
  {
   "cell_type": "markdown",
   "id": "7348abd0",
   "metadata": {},
   "source": [
    "#### 65. How to accumulate elements of a vector (X) to an array (F) based on an index list (I)? (★★★)\n",
    "`💡hint: np.bincount`"
   ]
  },
  {
   "cell_type": "code",
   "execution_count": 165,
   "id": "43a58dde",
   "metadata": {},
   "outputs": [
    {
     "data": {
      "text/plain": [
       "array([ 0.,  0., 12., 46.,  0.,  0.,  0.,  0., 18.])"
      ]
     },
     "execution_count": 165,
     "metadata": {},
     "output_type": "execute_result"
    }
   ],
   "source": [
    "a65=np.random.randint(1,10,5)\n",
    "b65=np.random.randint(10,20,5)\n",
    "c65=np.bincount(a65,b65)\n",
    "c65"
   ]
  },
  {
   "cell_type": "markdown",
   "id": "538e651c",
   "metadata": {},
   "source": [
    "#### 66. Considering a (w,h,3) image of (dtype=ubyte), compute the number of unique colors (★★☆)\n",
    "`💡hint: np.unique`"
   ]
  },
  {
   "cell_type": "code",
   "execution_count": 175,
   "id": "60b487a1",
   "metadata": {},
   "outputs": [
    {
     "data": {
      "text/plain": [
       "8"
      ]
     },
     "execution_count": 175,
     "metadata": {},
     "output_type": "execute_result"
    }
   ],
   "source": [
    "a66=np.random.randint(0,2,(16,16,3)).astype(np.ubyte)\n",
    "b66=a66[...,0]*(256*256)+a66[...,1]*256+a66[...,2]\n",
    "c66=len(np.unique(b66))\n",
    "c66"
   ]
  },
  {
   "cell_type": "markdown",
   "id": "33c986d9",
   "metadata": {},
   "source": [
    "#### 67. Considering a four dimensions array, how to get sum over the last two axis at once? (★★★)\n",
    "`💡hint: sum(axis=(-2,-1))`"
   ]
  },
  {
   "cell_type": "code",
   "execution_count": 179,
   "id": "6ba943fe",
   "metadata": {},
   "outputs": [
    {
     "data": {
      "text/plain": [
       "array([[499, 504, 340],\n",
       "       [463, 381, 470],\n",
       "       [370, 360, 470]])"
      ]
     },
     "execution_count": 179,
     "metadata": {},
     "output_type": "execute_result"
    }
   ],
   "source": [
    "a67=np.random.randint(0,100,(3,3,3,3))\n",
    "b67=a67.sum(axis=(-2,-1))\n",
    "b67"
   ]
  },
  {
   "cell_type": "markdown",
   "id": "00eb27c4",
   "metadata": {},
   "source": [
    "#### 68. Considering a one-dimensional vector D, how to compute means of subsets of D using a vector S of same size describing subset  indices? (★★★)\n",
    "`💡hint: np.bincount`"
   ]
  },
  {
   "cell_type": "code",
   "execution_count": 184,
   "id": "177b219c",
   "metadata": {},
   "outputs": [
    {
     "name": "stderr",
     "output_type": "stream",
     "text": [
      "C:\\Users\\ADMINI~1\\AppData\\Local\\Temp/ipykernel_11532/102438732.py:5: RuntimeWarning: invalid value encountered in true_divide\n",
      "  a68mean=a68sum/a68count\n"
     ]
    },
    {
     "data": {
      "text/plain": [
       "array([                nan, 0.6405455678373544 , 0.3295678618186819 ,\n",
       "                       nan, 0.3032387130108944 , 0.22275843480820967,\n",
       "                       nan, 0.7784046362875523 , 0.11263422610678608,\n",
       "       0.6102602314334217 ])"
      ]
     },
     "execution_count": 184,
     "metadata": {},
     "output_type": "execute_result"
    }
   ],
   "source": [
    "a68=np.random.uniform(0,1,10)\n",
    "b68=np.random.randint(0,10,10)\n",
    "a68sum=np.bincount(b68,weights=a68)\n",
    "a68count=np.bincount(b68)\n",
    "a68mean=a68sum/a68count\n",
    "a68mean"
   ]
  },
  {
   "cell_type": "markdown",
   "id": "928a1a15",
   "metadata": {},
   "source": [
    "#### 69. How to get the diagonal of a dot product? (★★★)\n",
    "`💡hint: np.diag`"
   ]
  },
  {
   "cell_type": "code",
   "execution_count": 186,
   "id": "038b9c1c",
   "metadata": {},
   "outputs": [
    {
     "data": {
      "text/plain": [
       "array([133,  29,  24])"
      ]
     },
     "execution_count": 186,
     "metadata": {},
     "output_type": "execute_result"
    }
   ],
   "source": [
    "a69=np.random.randint(0,10,(3,3))\n",
    "b69=np.random.randint(0,10,(3,3))\n",
    "dot69=np.dot(a69,b69)\n",
    "np.diag(dot69)"
   ]
  },
  {
   "cell_type": "markdown",
   "id": "5143f7f3",
   "metadata": {},
   "source": [
    "#### 70. Consider the vector [1, 2, 3, 4, 5], how to build a new vector with 3 consecutive zeros interleaved between each value? (★★★)\n",
    "`💡hint: array[::4]`"
   ]
  },
  {
   "cell_type": "code",
   "execution_count": 201,
   "id": "9913e7b0",
   "metadata": {},
   "outputs": [
    {
     "name": "stdout",
     "output_type": "stream",
     "text": [
      "[1 2 3 4 0 0 0 5]\n",
      "[1 2 3 0 0 0 4 5]\n",
      "[1 2 0 0 0 3 4 5]\n",
      "[1 0 0 0 2 3 4 5]\n"
     ]
    }
   ],
   "source": [
    "v70=np.array( [1,2,3,4,5])\n",
    "for i in [4,3,2,1]:\n",
    "        a70=np.insert(v70,i,[0,0,0])\n",
    "        print(a70)"
   ]
  },
  {
   "cell_type": "markdown",
   "id": "f62551d8",
   "metadata": {},
   "source": [
    "#### 71. Consider an array of dimension (5,5,3), how to mulitply it by an array with dimensions (5,5)? (★★★)\n",
    "`💡hint: array[:, :, None]`"
   ]
  },
  {
   "cell_type": "code",
   "execution_count": 189,
   "id": "02967528",
   "metadata": {},
   "outputs": [
    {
     "data": {
      "text/plain": [
       "array([[[112,  96, 144],\n",
       "        [ 88,  88,  77],\n",
       "        [135,  60,  15],\n",
       "        [ 13,  52, 104],\n",
       "        [ 13, 104,  78]],\n",
       "\n",
       "       [[ 95,  57, 152],\n",
       "        [ 68, 102,  85],\n",
       "        [ 55,  55,  44],\n",
       "        [105,  60,  30],\n",
       "        [ 70,  84,  84]],\n",
       "\n",
       "       [[ 96,  96,  96],\n",
       "        [ 38,  57,  57],\n",
       "        [ 56,  84,  28],\n",
       "        [ 84,  12,  48],\n",
       "        [ 22,  22,  11]],\n",
       "\n",
       "       [[112,  48,  32],\n",
       "        [ 68, 153,  34],\n",
       "        [ 15,  45, 135],\n",
       "        [144, 144,  90],\n",
       "        [ 60,  10,  20]],\n",
       "\n",
       "       [[ 44,  77,  66],\n",
       "        [ 80,  50,  60],\n",
       "        [ 78, 117, 117],\n",
       "        [ 96, 112,  96],\n",
       "        [ 99,  33,  22]]])"
      ]
     },
     "execution_count": 189,
     "metadata": {},
     "output_type": "execute_result"
    }
   ],
   "source": [
    "a71=np.random.randint(1,10,(5,5,3))\n",
    "b71=np.random.randint(10,20,(5,5))\n",
    "a71*b71[:,:,None]"
   ]
  },
  {
   "cell_type": "markdown",
   "id": "6896e326",
   "metadata": {},
   "source": [
    "#### 72. How to swap two rows of an array? (★★★)\n",
    "`💡hint: array[[]] = array[[]]`"
   ]
  },
  {
   "cell_type": "code",
   "execution_count": 192,
   "id": "33488c53",
   "metadata": {},
   "outputs": [
    {
     "data": {
      "text/plain": [
       "array([[3, 6, 7],\n",
       "       [2, 5, 5],\n",
       "       [8, 8, 3]])"
      ]
     },
     "execution_count": 192,
     "metadata": {},
     "output_type": "execute_result"
    }
   ],
   "source": [
    "a72=np.random.randint(1,9,(3,3))\n",
    "a72[[0,1]]=a72[[0,1]]\n",
    "a72"
   ]
  },
  {
   "cell_type": "markdown",
   "id": "aeaf4a7b",
   "metadata": {},
   "source": [
    "#### 73. Consider a set of 10 triplets describing 10 triangles (with shared vertices), find the set of unique line segments composing all the  triangles (★★★)\n",
    "`💡hint: repeat, np.roll, np.sort, view, np.unique`"
   ]
  },
  {
   "cell_type": "code",
   "execution_count": null,
   "id": "be837a66",
   "metadata": {},
   "outputs": [],
   "source": []
  },
  {
   "cell_type": "markdown",
   "id": "3d11451b",
   "metadata": {},
   "source": [
    "#### 74. Given a sorted array C that corresponds to a bincount, how to produce an array A such that np.bincount(A) == C? (★★★)\n",
    "`💡hint: np.repeat`"
   ]
  },
  {
   "cell_type": "code",
   "execution_count": 193,
   "id": "6912341a",
   "metadata": {},
   "outputs": [
    {
     "data": {
      "text/plain": [
       "array([1, 2, 3, 4, 5, 6])"
      ]
     },
     "execution_count": 193,
     "metadata": {},
     "output_type": "execute_result"
    }
   ],
   "source": [
    "C74=np.bincount([1,2,3,4,5,6])\n",
    "a74=np.repeat(np.arange(len(C74)),C74)\n",
    "a74"
   ]
  },
  {
   "cell_type": "markdown",
   "id": "a0a45995",
   "metadata": {},
   "source": [
    "#### 75. How to compute averages using a sliding window over an array? (★★★)\n",
    "`💡hint: np.cumsum`"
   ]
  },
  {
   "cell_type": "code",
   "execution_count": 194,
   "id": "d307be78",
   "metadata": {},
   "outputs": [
    {
     "data": {
      "text/plain": [
       "array([8.               , 7.666666666666667, 6.               ,\n",
       "       4.666666666666667, 5.666666666666667, 7.333333333333333])"
      ]
     },
     "execution_count": 194,
     "metadata": {},
     "output_type": "execute_result"
    }
   ],
   "source": [
    "def average(a):\n",
    "    a=np.cumsum(a,dtype=float)\n",
    "    a[3:]=a[3:]-a[:-3]\n",
    "    return a[3-1:]/3\n",
    "a75=np.random.randint(0,10,(8))\n",
    "average(a75)\n",
    "    "
   ]
  },
  {
   "cell_type": "markdown",
   "id": "7808578f",
   "metadata": {},
   "source": [
    "#### 76. Consider a one-dimensional array Z, build a two-dimensional array whose first row is (Z[0],Z[1],Z[2]) and each subsequent row is  shifted by 1 (last row should be (Z[-3],Z[-2],Z[-1]) (★★★)\n",
    "`💡hint: from numpy.lib import stride_tricks`"
   ]
  },
  {
   "cell_type": "code",
   "execution_count": 201,
   "id": "539e5596",
   "metadata": {},
   "outputs": [
    {
     "name": "stdout",
     "output_type": "stream",
     "text": [
      "[1 0 1 0 1 0 1 1]\n",
      "1\n"
     ]
    }
   ],
   "source": [
    "a76=np.random.randint(0,2,8)\n",
    "print(a76)\n",
    "print(a76[...,2])"
   ]
  },
  {
   "cell_type": "markdown",
   "id": "8e83df46",
   "metadata": {},
   "source": [
    "#### 77. How to negate a boolean, or to change the sign of a float inplace? (★★★)\n",
    "`💡hint: np.logical_not, np.negative`"
   ]
  },
  {
   "cell_type": "code",
   "execution_count": 199,
   "id": "90da18ec",
   "metadata": {},
   "outputs": [
    {
     "data": {
      "text/plain": [
       "array([-0.32942294253160853, -0.3646663084585964 , -0.3007287968011291 ,\n",
       "       -0.8363633278928846 , -0.7968618330421592 , -0.12790049275391113,\n",
       "       -0.8777606293839252 , -0.08115760572994979, -0.2445197131194906 ,\n",
       "       -0.840253381936913  ])"
      ]
     },
     "execution_count": 199,
     "metadata": {},
     "output_type": "execute_result"
    }
   ],
   "source": [
    "a77=np.random.randint(0,2,8)\n",
    "np.logical_not(a77,out=a77)\n",
    "b77=np.random.random(10)\n",
    "np.negative(b77,out=b77)\n"
   ]
  },
  {
   "cell_type": "markdown",
   "id": "e67ff31c",
   "metadata": {},
   "source": [
    "#### 78. Consider 2 sets of points P0,P1 describing lines (2d) and a point p, how to compute distance from p to each line i (P0[i],P1[i])? (★★★)"
   ]
  },
  {
   "cell_type": "code",
   "execution_count": 240,
   "id": "aaa0c5cb",
   "metadata": {},
   "outputs": [
    {
     "name": "stdout",
     "output_type": "stream",
     "text": [
      "[[-2.6139455741958675    2.4368330214128306  ]\n",
      " [-0.01386516864305154   5.943652312374505   ]\n",
      " [-2.724320151450767     4.990547445056693   ]\n",
      " [-0.45942172960570593   1.0057968902256578  ]\n",
      " [-4.580651683169345     3.9999471780685347  ]\n",
      " [-6.958328786985163     1.3325134865802912  ]\n",
      " [ 1.385468747153006     1.4921220604181875  ]\n",
      " [ 2.350241537782761     0.9576651349999548  ]\n",
      " [-3.5328084155229487    4.281965760424513   ]\n",
      " [-0.009890403199322773  0.2953179793298317  ]]\n"
     ]
    }
   ],
   "source": [
    "a78=np.random.uniform(5,-5,(10,2))\n",
    "b78=np.random.uniform(5,-5,(10,2))\n",
    "c78=np.random.uniform(5,-5,(1,2))\n",
    "d78=((b78-a78)**2).sum(axis=1)\n",
    "g78=-((a78[:,0]-c78[...,0])*(b78-a78)[:,0]+(a78[:,1]-c78[...,1])*(b78-a78)[:,1])/d78\n",
    "g78=g78.reshape(len(g78),1)\n",
    "f78=g78*(b78-a78)-c78+a78\n",
    "print(f78)\n",
    "  "
   ]
  },
  {
   "cell_type": "markdown",
   "id": "ad8821b1",
   "metadata": {},
   "source": [
    "#### 79. Consider 2 sets of points P0,P1 describing lines (2d) and a set of points P, how to compute distance from each point j (P[j]) to each line i (P0[i],P1[i])? (★★★)"
   ]
  },
  {
   "cell_type": "code",
   "execution_count": 242,
   "id": "12f9a524",
   "metadata": {},
   "outputs": [
    {
     "data": {
      "text/plain": [
       "array([[[ 3.3123212351771354 ,  0.7384417960090017 ],\n",
       "        [ 0.12793990663417798, -2.723133553675401  ],\n",
       "        [ 1.6851452797722475 , -1.224707858204714  ],\n",
       "        [-0.29725094365540694,  0.1065501380969951 ],\n",
       "        [ 3.338688993505156  ,  3.5667861213162775 ],\n",
       "        [-0.412644862068539  ,  1.0214439258681591 ],\n",
       "        [ 0.7495648163970756 ,  2.0774993509893176 ],\n",
       "        [ 3.0611485837697368 , -2.180106060230637  ],\n",
       "        [-0.2188601778272954 , -1.2706394369000038 ],\n",
       "        [ 0.7904824379461268 ,  0.9405883196136506 ]]])"
      ]
     },
     "execution_count": 242,
     "metadata": {},
     "output_type": "execute_result"
    }
   ],
   "source": [
    "a79=np.random.uniform(5,-5,(10,2))\n",
    "b79=np.random.uniform(5,-5,(10,2))\n",
    "c79=np.random.uniform(5,-5,(1,2))\n",
    "d79=((b79-a79)**2).sum(axis=1)\n",
    "g79=-((a79[:,0]-c79[...,0])*(b79-a79)[:,0]+(a79[:,1]-c79[...,1])*(b79-a79)[:,1])/d79\n",
    "g79=g79.reshape(len(g79),1)\n",
    "f79=g79*(b79-a79)-c79+a79\n",
    "np.array([f79 for f79i in c79])"
   ]
  },
  {
   "cell_type": "markdown",
   "id": "a0c8cbf5",
   "metadata": {},
   "source": [
    "#### 80. Consider an arbitrary array, write a function that extract a subpart with a fixed shape and centered on a given element (pad with a `fill` value when necessary) (★★★)\n",
    "`💡hint: minimum maximum`"
   ]
  },
  {
   "cell_type": "code",
   "execution_count": 262,
   "id": "6e44ae96",
   "metadata": {},
   "outputs": [
    {
     "name": "stdout",
     "output_type": "stream",
     "text": [
      "[[5 7 3 6 1 0 9 9 0 8]\n",
      " [7 3 5 8 6 5 5 3 6 0]\n",
      " [6 1 7 6 6 4 8 8 3 1]\n",
      " [8 9 0 2 5 4 3 0 0 5]\n",
      " [2 4 5 3 6 3 3 5 5 9]\n",
      " [3 5 8 2 4 2 8 7 9 6]\n",
      " [8 7 9 2 2 8 5 6 1 4]\n",
      " [9 9 2 4 9 3 4 0 2 0]\n",
      " [8 2 4 0 0 0 1 6 6 9]\n",
      " [0 3 7 8 1 3 1 9 6 6]]\n"
     ]
    },
    {
     "name": "stderr",
     "output_type": "stream",
     "text": [
      "C:\\Users\\ADMINI~1\\AppData\\Local\\Temp/ipykernel_11532/2110242194.py:19: FutureWarning: Using a non-tuple sequence for multidimensional indexing is deprecated; use `arr[tuple(seq)]` instead of `arr[seq]`. In the future this will be interpreted as an array index, `arr[np.array(seq)]`, which will result either in an error or a different result.\n",
      "  b80[r] = a80[z]\n"
     ]
    }
   ],
   "source": [
    "a80= np.random.randint(0,10,(10,10))\n",
    "fill  = 0\n",
    "position = (1,1)\n",
    "shape=(5,5)\n",
    "b80 = np.ones((5,5), dtype=Z.dtype)*0\n",
    "P  = np.array(list(position)).astype(int)\n",
    "Rs = np.array(list(b80.shape)).astype(int)\n",
    "Zs = np.array(list(a80.shape)).astype(int) \n",
    "b80_start = np.zeros((len(shape),)).astype(int)\n",
    "b80_stop  = np.array(list(shape)).astype(int)\n",
    "a80_start = (P-Rs//2)\n",
    "a80_stop  = (P+Rs//2)+Rs%2\n",
    "b80_start = (R_start - np.minimum(Z_start,0)).tolist()\n",
    "a80_start = (np.maximum(a80_start,0)).tolist()\n",
    "b80_stop = np.maximum(b80_start, (b80_stop - np.maximum(a80_stop-Zs,0))).tolist()\n",
    "a80_stop = (np.minimum(Z_stop,Zs)).tolist()\n",
    "mnb= [slice(start,stop) for start,stop in zip(b80_start,b80_stop)]\n",
    "bnm= [slice(start,stop) for start,stop in zip(a80_start,a80_stop)]\n",
    "b80[mnb] = a80[bnm]\n",
    "print(a80)\n"
   ]
  },
  {
   "cell_type": "markdown",
   "id": "781fa236",
   "metadata": {},
   "source": [
    "#### 81. Consider an array a = [1,2,3,4,5,6,7,8,9,10,11,12,13,14], how to generate an array b = [[1,2,3,4], [2,3,4,5], [3,4,5,6], ..., [11,12,13,14]]? (★★★)\n",
    "`💡hint: stride_tricks.as_strided`"
   ]
  },
  {
   "cell_type": "code",
   "execution_count": 266,
   "id": "82e3d17e",
   "metadata": {},
   "outputs": [
    {
     "data": {
      "text/plain": [
       "array([[ 1,  2,  3,  4],\n",
       "       [ 2,  3,  4,  5],\n",
       "       [ 3,  4,  5,  6],\n",
       "       [ 4,  5,  6,  7],\n",
       "       [ 5,  6,  7,  8],\n",
       "       [ 6,  7,  8,  9],\n",
       "       [ 7,  8,  9, 10],\n",
       "       [ 8,  9, 10, 11],\n",
       "       [ 9, 10, 11, 12],\n",
       "       [10, 11, 12, 13],\n",
       "       [11, 12, 13, 14]])"
      ]
     },
     "execution_count": 266,
     "metadata": {},
     "output_type": "execute_result"
    }
   ],
   "source": [
    "a81=np.arange(1,15)\n",
    "b81=np.lib.stride_tricks.as_strided(a81,(11,4),(4,4))\n",
    "b81\n"
   ]
  },
  {
   "cell_type": "markdown",
   "id": "9c9bb0f3",
   "metadata": {},
   "source": [
    "#### 82. Compute a matrix rank (★★★)\n",
    "`💡hint: np.linalg.svd`"
   ]
  },
  {
   "cell_type": "code",
   "execution_count": 268,
   "id": "18f053fa",
   "metadata": {},
   "outputs": [
    {
     "name": "stdout",
     "output_type": "stream",
     "text": [
      "10\n"
     ]
    }
   ],
   "source": [
    "a82=np.random.uniform(0,1,(10,10))\n",
    "b82,c82,d82= np.linalg.svd(a82) \n",
    "e82=np.sum(c82>1e-10)\n",
    "print(e82)"
   ]
  },
  {
   "cell_type": "markdown",
   "id": "7d8dc135",
   "metadata": {},
   "source": [
    "#### 83. How to find the most frequent value in an array?\n",
    "`💡hint: np.bincount, argmax`"
   ]
  },
  {
   "cell_type": "code",
   "execution_count": 390,
   "id": "81844e99",
   "metadata": {},
   "outputs": [
    {
     "name": "stdout",
     "output_type": "stream",
     "text": [
      "25\n"
     ]
    }
   ],
   "source": [
    "a23=np.random.randint(10,50,20)\n",
    "print(np.bincount(a23).argmax())"
   ]
  },
  {
   "cell_type": "markdown",
   "id": "aa340126",
   "metadata": {},
   "source": [
    "#### 84. Extract all the contiguous 3x3 blocks from a random 10x10 matrix (★★★)\n",
    "`💡hint: stride_tricks.as_strided`"
   ]
  },
  {
   "cell_type": "code",
   "execution_count": 370,
   "id": "f39dd2dd",
   "metadata": {},
   "outputs": [
    {
     "name": "stdout",
     "output_type": "stream",
     "text": [
      "[[[[2 0 4]\n",
      "   [0 3 0]\n",
      "   [4 2 1]]\n",
      "\n",
      "  [[0 4 3]\n",
      "   [3 0 1]\n",
      "   [2 1 0]]\n",
      "\n",
      "  [[4 3 1]\n",
      "   [0 1 4]\n",
      "   [1 0 1]]\n",
      "\n",
      "  [[3 1 3]\n",
      "   [1 4 0]\n",
      "   [0 1 1]]\n",
      "\n",
      "  [[1 3 3]\n",
      "   [4 0 0]\n",
      "   [1 1 3]]\n",
      "\n",
      "  [[3 3 1]\n",
      "   [0 0 4]\n",
      "   [1 3 2]]\n",
      "\n",
      "  [[3 1 2]\n",
      "   [0 4 1]\n",
      "   [3 2 4]]\n",
      "\n",
      "  [[1 2 0]\n",
      "   [4 1 1]\n",
      "   [2 4 1]]]\n",
      "\n",
      "\n",
      " [[[0 3 0]\n",
      "   [4 2 1]\n",
      "   [2 3 4]]\n",
      "\n",
      "  [[3 0 1]\n",
      "   [2 1 0]\n",
      "   [3 4 2]]\n",
      "\n",
      "  [[0 1 4]\n",
      "   [1 0 1]\n",
      "   [4 2 0]]\n",
      "\n",
      "  [[1 4 0]\n",
      "   [0 1 1]\n",
      "   [2 0 4]]\n",
      "\n",
      "  [[4 0 0]\n",
      "   [1 1 3]\n",
      "   [0 4 3]]\n",
      "\n",
      "  [[0 0 4]\n",
      "   [1 3 2]\n",
      "   [4 3 3]]\n",
      "\n",
      "  [[0 4 1]\n",
      "   [3 2 4]\n",
      "   [3 3 0]]\n",
      "\n",
      "  [[4 1 1]\n",
      "   [2 4 1]\n",
      "   [3 0 3]]]\n",
      "\n",
      "\n",
      " [[[4 2 1]\n",
      "   [2 3 4]\n",
      "   [3 2 1]]\n",
      "\n",
      "  [[2 1 0]\n",
      "   [3 4 2]\n",
      "   [2 1 4]]\n",
      "\n",
      "  [[1 0 1]\n",
      "   [4 2 0]\n",
      "   [1 4 4]]\n",
      "\n",
      "  [[0 1 1]\n",
      "   [2 0 4]\n",
      "   [4 4 0]]\n",
      "\n",
      "  [[1 1 3]\n",
      "   [0 4 3]\n",
      "   [4 0 3]]\n",
      "\n",
      "  [[1 3 2]\n",
      "   [4 3 3]\n",
      "   [0 3 2]]\n",
      "\n",
      "  [[3 2 4]\n",
      "   [3 3 0]\n",
      "   [3 2 1]]\n",
      "\n",
      "  [[2 4 1]\n",
      "   [3 0 3]\n",
      "   [2 1 4]]]\n",
      "\n",
      "\n",
      " [[[2 3 4]\n",
      "   [3 2 1]\n",
      "   [3 0 4]]\n",
      "\n",
      "  [[3 4 2]\n",
      "   [2 1 4]\n",
      "   [0 4 0]]\n",
      "\n",
      "  [[4 2 0]\n",
      "   [1 4 4]\n",
      "   [4 0 4]]\n",
      "\n",
      "  [[2 0 4]\n",
      "   [4 4 0]\n",
      "   [0 4 4]]\n",
      "\n",
      "  [[0 4 3]\n",
      "   [4 0 3]\n",
      "   [4 4 1]]\n",
      "\n",
      "  [[4 3 3]\n",
      "   [0 3 2]\n",
      "   [4 1 0]]\n",
      "\n",
      "  [[3 3 0]\n",
      "   [3 2 1]\n",
      "   [1 0 4]]\n",
      "\n",
      "  [[3 0 3]\n",
      "   [2 1 4]\n",
      "   [0 4 3]]]\n",
      "\n",
      "\n",
      " [[[3 2 1]\n",
      "   [3 0 4]\n",
      "   [3 3 2]]\n",
      "\n",
      "  [[2 1 4]\n",
      "   [0 4 0]\n",
      "   [3 2 0]]\n",
      "\n",
      "  [[1 4 4]\n",
      "   [4 0 4]\n",
      "   [2 0 0]]\n",
      "\n",
      "  [[4 4 0]\n",
      "   [0 4 4]\n",
      "   [0 0 0]]\n",
      "\n",
      "  [[4 0 3]\n",
      "   [4 4 1]\n",
      "   [0 0 2]]\n",
      "\n",
      "  [[0 3 2]\n",
      "   [4 1 0]\n",
      "   [0 2 3]]\n",
      "\n",
      "  [[3 2 1]\n",
      "   [1 0 4]\n",
      "   [2 3 2]]\n",
      "\n",
      "  [[2 1 4]\n",
      "   [0 4 3]\n",
      "   [3 2 1]]]\n",
      "\n",
      "\n",
      " [[[3 0 4]\n",
      "   [3 3 2]\n",
      "   [4 0 0]]\n",
      "\n",
      "  [[0 4 0]\n",
      "   [3 2 0]\n",
      "   [0 0 3]]\n",
      "\n",
      "  [[4 0 4]\n",
      "   [2 0 0]\n",
      "   [0 3 2]]\n",
      "\n",
      "  [[0 4 4]\n",
      "   [0 0 0]\n",
      "   [3 2 3]]\n",
      "\n",
      "  [[4 4 1]\n",
      "   [0 0 2]\n",
      "   [2 3 4]]\n",
      "\n",
      "  [[4 1 0]\n",
      "   [0 2 3]\n",
      "   [3 4 4]]\n",
      "\n",
      "  [[1 0 4]\n",
      "   [2 3 2]\n",
      "   [4 4 4]]\n",
      "\n",
      "  [[0 4 3]\n",
      "   [3 2 1]\n",
      "   [4 4 3]]]\n",
      "\n",
      "\n",
      " [[[3 3 2]\n",
      "   [4 0 0]\n",
      "   [1 1 1]]\n",
      "\n",
      "  [[3 2 0]\n",
      "   [0 0 3]\n",
      "   [1 1 1]]\n",
      "\n",
      "  [[2 0 0]\n",
      "   [0 3 2]\n",
      "   [1 1 3]]\n",
      "\n",
      "  [[0 0 0]\n",
      "   [3 2 3]\n",
      "   [1 3 0]]\n",
      "\n",
      "  [[0 0 2]\n",
      "   [2 3 4]\n",
      "   [3 0 2]]\n",
      "\n",
      "  [[0 2 3]\n",
      "   [3 4 4]\n",
      "   [0 2 4]]\n",
      "\n",
      "  [[2 3 2]\n",
      "   [4 4 4]\n",
      "   [2 4 4]]\n",
      "\n",
      "  [[3 2 1]\n",
      "   [4 4 3]\n",
      "   [4 4 0]]]\n",
      "\n",
      "\n",
      " [[[4 0 0]\n",
      "   [1 1 1]\n",
      "   [3 1 2]]\n",
      "\n",
      "  [[0 0 3]\n",
      "   [1 1 1]\n",
      "   [1 2 3]]\n",
      "\n",
      "  [[0 3 2]\n",
      "   [1 1 3]\n",
      "   [2 3 2]]\n",
      "\n",
      "  [[3 2 3]\n",
      "   [1 3 0]\n",
      "   [3 2 2]]\n",
      "\n",
      "  [[2 3 4]\n",
      "   [3 0 2]\n",
      "   [2 2 3]]\n",
      "\n",
      "  [[3 4 4]\n",
      "   [0 2 4]\n",
      "   [2 3 3]]\n",
      "\n",
      "  [[4 4 4]\n",
      "   [2 4 4]\n",
      "   [3 3 1]]\n",
      "\n",
      "  [[4 4 3]\n",
      "   [4 4 0]\n",
      "   [3 1 2]]]]\n"
     ]
    }
   ],
   "source": [
    "a84 = np.matrix(np.random.randint(0,5,(10,10)))\n",
    "b84=1+(a84.shape[0]-3)\n",
    "c84=1+(a84.shape[1]-3)\n",
    "d84=np.lib.stride_tricks.as_strided(a84, shape=(b84,c84,3,3), strides=a84.strides+a84.strides)\n",
    "print(d84)"
   ]
  },
  {
   "cell_type": "markdown",
   "id": "6b6d2c84",
   "metadata": {},
   "source": [
    "#### 85. Create a 2D array subclass such that a[i,j] == a[j,i] (★★★)\n",
    "`💡hint: class method`"
   ]
  },
  {
   "cell_type": "code",
   "execution_count": null,
   "id": "1916d67d",
   "metadata": {},
   "outputs": [],
   "source": []
  },
  {
   "cell_type": "markdown",
   "id": "7be0fe36",
   "metadata": {},
   "source": [
    "#### 86. Consider a set of p matrices wich shape (n,n) and a set of p vectors with shape (n,1). How to compute the sum of of the p matrix products at once? (result has shape (n,1)) (★★★)\n",
    "`💡hint: np.tensordot`"
   ]
  },
  {
   "cell_type": "code",
   "execution_count": 348,
   "id": "1d07c08f",
   "metadata": {},
   "outputs": [
    {
     "name": "stdout",
     "output_type": "stream",
     "text": [
      "[[200.]\n",
      " [200.]\n",
      " [200.]\n",
      " [200.]\n",
      " [200.]\n",
      " [200.]\n",
      " [200.]\n",
      " [200.]\n",
      " [200.]\n",
      " [200.]\n",
      " [200.]\n",
      " [200.]\n",
      " [200.]\n",
      " [200.]\n",
      " [200.]\n",
      " [200.]\n",
      " [200.]\n",
      " [200.]\n",
      " [200.]\n",
      " [200.]]\n"
     ]
    }
   ],
   "source": [
    "a86=np.ones((10,20,20))\n",
    "b86=np.ones((10,20,1))\n",
    "c86=np.tensordot(a86, b86, axes=[[0, 2], [0, 1]])\n",
    "print(c86)"
   ]
  },
  {
   "cell_type": "markdown",
   "id": "a840a88f",
   "metadata": {},
   "source": [
    "#### 87. Consider a 16x16 array, how to get the block-sum (block size is 4x4)? (★★★)\n",
    "`💡hint: np.add.reduceat`"
   ]
  },
  {
   "cell_type": "code",
   "execution_count": 334,
   "id": "7200f861",
   "metadata": {},
   "outputs": [
    {
     "name": "stdout",
     "output_type": "stream",
     "text": [
      "[[84 89 91 80]\n",
      " [52 69 78 86]\n",
      " [86 96 64 80]\n",
      " [88 70 98 75]]\n"
     ]
    }
   ],
   "source": [
    "a87=np.random.randint(1,10,(16,16))\n",
    "b87=np.add.reduceat(np.add.reduceat(a87, np.arange(0, a87.shape[0], 4), axis=0), np.arange(0, a87.shape[1], 4), axis=1)\n",
    "print(b87)"
   ]
  },
  {
   "cell_type": "markdown",
   "id": "c2bd7385",
   "metadata": {},
   "source": [
    "#### 88. How to implement the Game of Life using numpy arrays? (★★★)"
   ]
  },
  {
   "cell_type": "code",
   "execution_count": null,
   "id": "7a5d67d2",
   "metadata": {},
   "outputs": [],
   "source": []
  },
  {
   "cell_type": "markdown",
   "id": "4c70397b",
   "metadata": {},
   "source": [
    "#### 89. How to get the n largest values of an array (★★★)\n",
    "`💡hint: np.argsort | np.argpartition`"
   ]
  },
  {
   "cell_type": "code",
   "execution_count": 314,
   "id": "732993b7",
   "metadata": {},
   "outputs": [
    {
     "name": "stdout",
     "output_type": "stream",
     "text": [
      "[[65 73 77]\n",
      " [65 73 77]]\n"
     ]
    }
   ],
   "source": [
    "n=6\n",
    "a89=np.random.randint(1,100,(20))\n",
    "print (a89[np.argsort(Z)[-n:]])"
   ]
  },
  {
   "cell_type": "markdown",
   "id": "15ba193c",
   "metadata": {},
   "source": [
    "#### 90. Given an arbitrary number of vectors, build the cartesian product (every combinations of every item) (★★★)\n",
    "`💡hint: np.indices`"
   ]
  },
  {
   "cell_type": "code",
   "execution_count": null,
   "id": "3a315a00",
   "metadata": {},
   "outputs": [],
   "source": []
  },
  {
   "cell_type": "markdown",
   "id": "ec828405",
   "metadata": {},
   "source": [
    "#### 91. How to create a record array from a regular array? (★★★)\n",
    "`💡hint: np.core.records.fromarrays`"
   ]
  },
  {
   "cell_type": "code",
   "execution_count": 468,
   "id": "608a017a",
   "metadata": {},
   "outputs": [
    {
     "name": "stdout",
     "output_type": "stream",
     "text": [
      "[(1, 2, 3) (4, 5, 6)]\n"
     ]
    }
   ],
   "source": [
    "a91=np.array([(1,2,3),\n",
    "              (4,5,6)])\n",
    "b91=np.core.records.fromarrays(a91.T,names='1,2,3')\n",
    "print(b91)"
   ]
  },
  {
   "cell_type": "markdown",
   "id": "d94352b6",
   "metadata": {},
   "source": [
    "#### 92. Consider a large vector A, compute A to the power of 3 using 3 different methods (★★★)\n",
    "`💡hint: np.power, *, np.einsum`"
   ]
  },
  {
   "cell_type": "code",
   "execution_count": 294,
   "id": "759d5ce5",
   "metadata": {},
   "outputs": [
    {
     "name": "stdout",
     "output_type": "stream",
     "text": [
      "[5.6744672326312175e-02 8.1863508426758148e-06 1.5502329096802917e-02\n",
      " 1.5330665702774672e-04 6.0727820655743414e-01 8.1495493394923946e-01\n",
      " 1.7166593355155313e-01 3.8312096589065772e-03 4.9717205148768991e-04\n",
      " 2.6881697056775511e-01]\n",
      "[5.6744672326312175e-02 8.1863508426758148e-06 1.5502329096802917e-02\n",
      " 1.5330665702774672e-04 6.0727820655743414e-01 8.1495493394923946e-01\n",
      " 1.7166593355155313e-01 3.8312096589065772e-03 4.9717205148768991e-04\n",
      " 2.6881697056775511e-01]\n",
      "[5.6744672326312175e-02 8.1863508426758148e-06 1.5502329096802917e-02\n",
      " 1.5330665702774672e-04 6.0727820655743414e-01 8.1495493394923946e-01\n",
      " 1.7166593355155313e-01 3.8312096589065772e-03 4.9717205148768991e-04\n",
      " 2.6881697056775511e-01]\n"
     ]
    }
   ],
   "source": [
    "a92= np.random.random(10)\n",
    "print(np.power(a92,3))\n",
    "print(a92*a92*a92)\n",
    "print(a92**3)"
   ]
  },
  {
   "cell_type": "markdown",
   "id": "7c3a9e32",
   "metadata": {},
   "source": [
    "#### 93. Consider two arrays A and B of shape (8,3) and (2,2). How to find rows of A that contain elements of each row of B regardless of the order of the elements in B? (★★★)\n",
    "`💡hint: np.where`"
   ]
  },
  {
   "cell_type": "code",
   "execution_count": 393,
   "id": "5c293501",
   "metadata": {},
   "outputs": [
    {
     "name": "stdout",
     "output_type": "stream",
     "text": [
      "[3 4 5]\n"
     ]
    }
   ],
   "source": [
    "a93=np.random.randint(0,10,(8,3))\n",
    "b93=np.random.randint(0,10,(2,2))\n",
    " \n",
    "c93=(a93[..., np.newaxis, np.newaxis]==b93)\n",
    "rows = np.where(c93.any((3,1)).all(1))[0]\n",
    "print(rows)"
   ]
  },
  {
   "cell_type": "markdown",
   "id": "da9d5eeb",
   "metadata": {},
   "source": [
    "#### 94. Considering a 10x3 matrix, extract rows with unequal values (e.g. [2,2,3]) (★★★)"
   ]
  },
  {
   "cell_type": "code",
   "execution_count": 399,
   "id": "89d5fba0",
   "metadata": {},
   "outputs": [
    {
     "name": "stdout",
     "output_type": "stream",
     "text": [
      "[[4 1 4]\n",
      " [3 0 0]\n",
      " [2 3 0]\n",
      " [0 1 4]\n",
      " [4 2 1]\n",
      " [4 3 3]\n",
      " [3 2 2]\n",
      " [2 1 2]\n",
      " [3 2 3]\n",
      " [1 1 3]]\n"
     ]
    }
   ],
   "source": [
    "a94=np.random.randint(0,5,(10,3))\n",
    "b94=np.all(a94[:,1:] == a94[:,:-1], axis=1)\n",
    "c94=a94[~b94]\n",
    "c94=a94[a94.max(axis=1) != a94.min(axis=1),:]\n",
    "print(c94)"
   ]
  },
  {
   "cell_type": "markdown",
   "id": "f7b65fd5",
   "metadata": {},
   "source": [
    "#### 95. Convert a vector of ints into a matrix binary representation (★★★)\n",
    "`💡hint: np.unpackbits`"
   ]
  },
  {
   "cell_type": "code",
   "execution_count": 401,
   "id": "4edef8b1",
   "metadata": {},
   "outputs": [
    {
     "name": "stdout",
     "output_type": "stream",
     "text": [
      "[[0 0 0 0 0 0 0 0]\n",
      " [0 0 0 0 0 0 0 1]\n",
      " [0 0 0 0 0 0 1 0]\n",
      " [0 0 0 0 0 0 1 1]\n",
      " [0 0 0 0 0 1 0 0]\n",
      " [0 0 0 0 0 1 0 1]\n",
      " [0 0 0 0 0 1 1 0]\n",
      " [0 0 0 0 0 1 1 1]\n",
      " [0 0 0 0 1 0 0 0]]\n"
     ]
    }
   ],
   "source": [
    "a95=np.array([0,1,2,3,4,5,6,7,8], dtype=np.uint8)\n",
    "print(np.unpackbits(a95[:, np.newaxis], axis=1))"
   ]
  },
  {
   "cell_type": "markdown",
   "id": "2784c996",
   "metadata": {},
   "source": [
    "#### 96. Given a two dimensional array, how to extract unique rows? (★★★)\n",
    "`💡hint: np.ascontiguousarray | np.unique`"
   ]
  },
  {
   "cell_type": "code",
   "execution_count": 404,
   "id": "1d65d01e",
   "metadata": {},
   "outputs": [
    {
     "name": "stdout",
     "output_type": "stream",
     "text": [
      "[[0 0 1 1 1]\n",
      " [0 1 0 0 1]\n",
      " [1 0 0 1 0]]\n"
     ]
    }
   ],
   "source": [
    "a96=np.random.randint(0,2,(5,5))\n",
    "b96=np.ascontiguousarray(a96).view(np.dtype((np.void,a96.dtype.itemsize *a96.shape[1])))\n",
    "_, index96 =np.unique(b96, return_index=True)\n",
    "c96=a96[index96]\n",
    "print(c96)"
   ]
  },
  {
   "cell_type": "markdown",
   "id": "71a7574c",
   "metadata": {},
   "source": [
    "#### 97. Considering 2 vectors A & B, write the einsum equivalent of inner, outer, sum, and mul function (★★★)\n",
    "`💡hint: np.einsum`"
   ]
  },
  {
   "cell_type": "code",
   "execution_count": 459,
   "id": "43471b2e",
   "metadata": {},
   "outputs": [
    {
     "data": {
      "text/plain": [
       "array([[12, 21,  6, 18, 18, 27, 18, 15,  6,  9],\n",
       "       [36, 63, 18, 54, 54, 81, 54, 45, 18, 27],\n",
       "       [20, 35, 10, 30, 30, 45, 30, 25, 10, 15],\n",
       "       [ 4,  7,  2,  6,  6,  9,  6,  5,  2,  3],\n",
       "       [ 4,  7,  2,  6,  6,  9,  6,  5,  2,  3],\n",
       "       [12, 21,  6, 18, 18, 27, 18, 15,  6,  9],\n",
       "       [12, 21,  6, 18, 18, 27, 18, 15,  6,  9],\n",
       "       [24, 42, 12, 36, 36, 54, 36, 30, 12, 18],\n",
       "       [16, 28,  8, 24, 24, 36, 24, 20,  8, 12],\n",
       "       [ 8, 14,  4, 12, 12, 18, 12, 10,  4,  6]])"
      ]
     },
     "execution_count": 459,
     "metadata": {},
     "output_type": "execute_result"
    }
   ],
   "source": [
    "A97=np.random.randint(1,10,(10))\n",
    "B97=np.random.randint(1,10,(10))\n",
    "np.einsum('i->',A97)\n",
    "np.einsum('i,i->i',A97,B97) \n",
    "np.einsum('i,i',A97,B97)    \n",
    "np.einsum('i,j->ij',A97,B97)"
   ]
  },
  {
   "cell_type": "markdown",
   "id": "30f06441",
   "metadata": {},
   "source": [
    "#### 98. Considering a path described by two vectors (X,Y), how to sample it using equidistant samples (★★★)?\n",
    "`💡hint: np.cumsum, np.interp`"
   ]
  },
  {
   "cell_type": "code",
   "execution_count": 413,
   "id": "ddac593f",
   "metadata": {},
   "outputs": [],
   "source": []
  },
  {
   "cell_type": "markdown",
   "id": "e5737276",
   "metadata": {},
   "source": [
    "#### 99. Given an integer n and a 2D array X, select from X the rows which can be interpreted as draws from a multinomial distribution with n degrees, i.e., the rows which only contain integers and which sum to n. (★★★)\n",
    "`💡hint: np.logical_and.reduce, np.mod`"
   ]
  },
  {
   "cell_type": "code",
   "execution_count": 429,
   "id": "5d0d0fa8",
   "metadata": {},
   "outputs": [
    {
     "name": "stdout",
     "output_type": "stream",
     "text": [
      "[]\n"
     ]
    }
   ],
   "source": [
    "a99=np.random.randint(0,20,(3,3,1))\n",
    "n = 1\n",
    "b99= np.logical_and.reduce(np.mod(a99, 1) == 0, axis=-1)\n",
    "b99&= (a99.sum(axis=-1) == n)\n",
    "print(a99[b99])"
   ]
  },
  {
   "cell_type": "markdown",
   "id": "5882e36d",
   "metadata": {},
   "source": [
    "#### 100. Compute bootstrapped 95% confidence intervals for the mean of a 1D array X (i.e., resample the elements of an array with replacement N times, compute the mean of each sample, and then compute percentiles over the means). (★★★)\n",
    "`💡hint: np.percentile`"
   ]
  },
  {
   "cell_type": "code",
   "execution_count": 450,
   "id": "c21a8816",
   "metadata": {},
   "outputs": [
    {
     "name": "stdout",
     "output_type": "stream",
     "text": [
      "[-0.021124645565756762  0.3280213956651517  ]\n"
     ]
    }
   ],
   "source": [
    "a100=np.random.randn(100)\n",
    "b100=np.random.randint(0, a100.size, (1000, a100.size))\n",
    "mean100= a100[b100].mean(axis=1)\n",
    "c100=np.percentile(mean100, [2.5, 97.5])\n",
    "print(c100)"
   ]
  }
 ],
 "metadata": {
  "hide_input": false,
  "kernelspec": {
   "display_name": "Python 3 (ipykernel)",
   "language": "python",
   "name": "python3"
  },
  "language_info": {
   "codemirror_mode": {
    "name": "ipython",
    "version": 3
   },
   "file_extension": ".py",
   "mimetype": "text/x-python",
   "name": "python",
   "nbconvert_exporter": "python",
   "pygments_lexer": "ipython3",
   "version": "3.9.7"
  },
  "toc": {
   "base_numbering": 1,
   "nav_menu": {},
   "number_sections": true,
   "sideBar": true,
   "skip_h1_title": false,
   "title_cell": "Table of Contents",
   "title_sidebar": "Contents",
   "toc_cell": false,
   "toc_position": {},
   "toc_section_display": true,
   "toc_window_display": false
  },
  "varInspector": {
   "cols": {
    "lenName": 16,
    "lenType": 16,
    "lenVar": 40
   },
   "kernels_config": {
    "python": {
     "delete_cmd_postfix": "",
     "delete_cmd_prefix": "del ",
     "library": "var_list.py",
     "varRefreshCmd": "print(var_dic_list())"
    },
    "r": {
     "delete_cmd_postfix": ") ",
     "delete_cmd_prefix": "rm(",
     "library": "var_list.r",
     "varRefreshCmd": "cat(var_dic_list()) "
    }
   },
   "types_to_exclude": [
    "module",
    "function",
    "builtin_function_or_method",
    "instance",
    "_Feature"
   ],
   "window_display": false
  }
 },
 "nbformat": 4,
 "nbformat_minor": 5
}
